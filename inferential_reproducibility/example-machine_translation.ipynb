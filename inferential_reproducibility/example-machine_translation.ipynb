{
 "cells": [
  {
   "cell_type": "code",
   "execution_count": 1,
   "id": "2baabd05-8b21-4ee1-abc8-4decb63d4c5f",
   "metadata": {
    "tags": []
   },
   "outputs": [],
   "source": [
    "from inferential_analysis import InferentialAnalysis\n",
    "import pandas as pd #needed for data reading & wrangling\n",
    "import numpy as np #needed for data reading & wrangling"
   ]
  },
  {
   "cell_type": "markdown",
   "id": "a7e19200-571a-4f90-8385-5e9035da78a1",
   "metadata": {},
   "source": [
    "## Example: Interactive Machine Translation [Kreutzer et al. 2020]"
   ]
  },
  {
   "cell_type": "markdown",
   "id": "5ab2f02d-fd7f-44bd-9c8b-34d88e56758d",
   "metadata": {},
   "source": [
    "### Training Reproducibility: Statistical Significance Testing of Best Baseline vs Best Competitor under Seed Variation"
   ]
  },
  {
   "cell_type": "code",
   "execution_count": null,
   "id": "acb563d6-0b6b-4cba-bbf7-78538c541974",
   "metadata": {},
   "outputs": [],
   "source": [
    "eval_data = pd.read_csv('evaluation_data/kreutzer.csv')\n",
    "eval_data = eval_data.astype({\"sentence_id\" : 'category', \"system\" : 'category'})\n",
    "#bin source sentence length\n",
    "eval_data = eval_data.assign(src_length_class = lambda x: pd.cut(x.src_length, bins=[np.min(x.src_length), 15, 55, np.max(x.src_length)], labels=[\"short\", \"typical\", \"very long\"], include_lowest=True))"
   ]
  },
  {
   "cell_type": "code",
   "execution_count": null,
   "id": "33102add-cad4-4f9d-b6c8-276d8e17f2cd",
   "metadata": {
    "tags": []
   },
   "outputs": [],
   "source": [
    "kreutzer = InferentialAnalysis(evaluation_data = eval_data, eval_metric_col = \"ter\", system_col = \"system\", input_identifier_col = \"sentence_id\")"
   ]
  },
  {
   "cell_type": "code",
   "execution_count": 4,
   "id": "afce77ee-36d3-4d52-a71c-2932ad814106",
   "metadata": {},
   "outputs": [
    {
     "name": "stdout",
     "output_type": "stream",
     "text": [
      "Fitting H0-model.\n",
      "Fitting H1-model.\n",
      "P-values adjusted by tukey method for family of 3 estimates\n",
      "GLRT p-value <= alpha: Null hypothesis can be rejected! At least two systems are different. See contrasts for pairwise comparisons.\n"
     ]
    }
   ],
   "source": [
    "kreutzer.system_comparison()"
   ]
  },
  {
   "cell_type": "code",
   "execution_count": 5,
   "id": "241b4b13-dc5b-46b6-b795-1c49ed6e929a",
   "metadata": {},
   "outputs": [
    {
     "data": {
      "text/plain": [
       "{'chi_square': 34.08951047763003, 'df': 2, 'p': 3.958738858944599e-08}"
      ]
     },
     "execution_count": 5,
     "metadata": {},
     "output_type": "execute_result"
    }
   ],
   "source": [
    "kreutzer.SystemComparison.glrt"
   ]
  },
  {
   "cell_type": "code",
   "execution_count": 6,
   "id": "9158ec86-5441-4e80-9712-06d452c8b206",
   "metadata": {},
   "outputs": [
    {
     "data": {
      "text/html": [
       "<div>\n",
       "<style scoped>\n",
       "    .dataframe tbody tr th:only-of-type {\n",
       "        vertical-align: middle;\n",
       "    }\n",
       "\n",
       "    .dataframe tbody tr th {\n",
       "        vertical-align: top;\n",
       "    }\n",
       "\n",
       "    .dataframe thead th {\n",
       "        text-align: right;\n",
       "    }\n",
       "</style>\n",
       "<table border=\"1\" class=\"dataframe\">\n",
       "  <thead>\n",
       "    <tr style=\"text-align: right;\">\n",
       "      <th></th>\n",
       "      <th>system</th>\n",
       "      <th>Estimate</th>\n",
       "      <th>95CI_lo</th>\n",
       "      <th>95CI_up</th>\n",
       "      <th>SE</th>\n",
       "    </tr>\n",
       "  </thead>\n",
       "  <tbody>\n",
       "    <tr>\n",
       "      <th>0</th>\n",
       "      <td>Baseline</td>\n",
       "      <td>0.591</td>\n",
       "      <td>0.575</td>\n",
       "      <td>0.607</td>\n",
       "      <td>0.008</td>\n",
       "    </tr>\n",
       "    <tr>\n",
       "      <th>1</th>\n",
       "      <td>Marking</td>\n",
       "      <td>0.578</td>\n",
       "      <td>0.563</td>\n",
       "      <td>0.594</td>\n",
       "      <td>0.008</td>\n",
       "    </tr>\n",
       "    <tr>\n",
       "      <th>2</th>\n",
       "      <td>PostEdit</td>\n",
       "      <td>0.581</td>\n",
       "      <td>0.566</td>\n",
       "      <td>0.597</td>\n",
       "      <td>0.008</td>\n",
       "    </tr>\n",
       "  </tbody>\n",
       "</table>\n",
       "</div>"
      ],
      "text/plain": [
       "     system  Estimate  95CI_lo  95CI_up     SE\n",
       "0  Baseline     0.591    0.575    0.607  0.008\n",
       "1   Marking     0.578    0.563    0.594  0.008\n",
       "2  PostEdit     0.581    0.566    0.597  0.008"
      ]
     },
     "execution_count": 6,
     "metadata": {},
     "output_type": "execute_result"
    }
   ],
   "source": [
    "kreutzer.SystemComparison.means"
   ]
  },
  {
   "cell_type": "code",
   "execution_count": 7,
   "id": "f0acf331-1da2-4faf-bf45-852e3a17f19a",
   "metadata": {},
   "outputs": [
    {
     "data": {
      "text/html": [
       "<div>\n",
       "<style scoped>\n",
       "    .dataframe tbody tr th:only-of-type {\n",
       "        vertical-align: middle;\n",
       "    }\n",
       "\n",
       "    .dataframe tbody tr th {\n",
       "        vertical-align: top;\n",
       "    }\n",
       "\n",
       "    .dataframe thead th {\n",
       "        text-align: right;\n",
       "    }\n",
       "</style>\n",
       "<table border=\"1\" class=\"dataframe\">\n",
       "  <thead>\n",
       "    <tr style=\"text-align: right;\">\n",
       "      <th></th>\n",
       "      <th>Contrast</th>\n",
       "      <th>Estimate</th>\n",
       "      <th>95CI_lo</th>\n",
       "      <th>95CI_up</th>\n",
       "      <th>SE</th>\n",
       "      <th>P-val</th>\n",
       "      <th>Effect_size_g</th>\n",
       "    </tr>\n",
       "  </thead>\n",
       "  <tbody>\n",
       "    <tr>\n",
       "      <th>0</th>\n",
       "      <td>Baseline - Marking</td>\n",
       "      <td>0.012</td>\n",
       "      <td>0.007</td>\n",
       "      <td>0.017</td>\n",
       "      <td>0.002</td>\n",
       "      <td>0.000</td>\n",
       "      <td>0.203235</td>\n",
       "    </tr>\n",
       "    <tr>\n",
       "      <th>1</th>\n",
       "      <td>Baseline - PostEdit</td>\n",
       "      <td>0.010</td>\n",
       "      <td>0.005</td>\n",
       "      <td>0.015</td>\n",
       "      <td>0.002</td>\n",
       "      <td>0.000</td>\n",
       "      <td>0.169362</td>\n",
       "    </tr>\n",
       "    <tr>\n",
       "      <th>2</th>\n",
       "      <td>Marking - PostEdit</td>\n",
       "      <td>-0.003</td>\n",
       "      <td>-0.006</td>\n",
       "      <td>0.001</td>\n",
       "      <td>0.001</td>\n",
       "      <td>0.163</td>\n",
       "      <td>-0.050809</td>\n",
       "    </tr>\n",
       "  </tbody>\n",
       "</table>\n",
       "</div>"
      ],
      "text/plain": [
       "              Contrast  Estimate  95CI_lo  95CI_up     SE  P-val  \\\n",
       "0   Baseline - Marking     0.012    0.007    0.017  0.002  0.000   \n",
       "1  Baseline - PostEdit     0.010    0.005    0.015  0.002  0.000   \n",
       "2   Marking - PostEdit    -0.003   -0.006    0.001  0.001  0.163   \n",
       "\n",
       "   Effect_size_g  \n",
       "0       0.203235  \n",
       "1       0.169362  \n",
       "2      -0.050809  "
      ]
     },
     "execution_count": 7,
     "metadata": {},
     "output_type": "execute_result"
    }
   ],
   "source": [
    "kreutzer.SystemComparison.contrasts"
   ]
  },
  {
   "cell_type": "markdown",
   "id": "7f5580f6-e03c-4641-8cce-bf17391bad37",
   "metadata": {
    "tags": []
   },
   "source": [
    "#### Investigate If The Observed Performance Difference Depends on the **input length** of the Input Sentence"
   ]
  },
  {
   "cell_type": "code",
   "execution_count": 8,
   "id": "848e79f8-eb3a-40c5-b999-8fa9db4e8c46",
   "metadata": {
    "tags": []
   },
   "outputs": [
    {
     "name": "stdout",
     "output_type": "stream",
     "text": [
      "Data property is a categorical variable. Applying cell means model and reporting means.\n",
      "Fitting H0-model.\n",
      "Fitting H1-model.\n",
      "P-values adjusted by tukey method for family of 3 estimates\n",
      "GLRT p-value <= alpha: Null hypothesis can be rejected! At least two systems depend differently to the data property. See contrasts for pairwise comparisons.\n"
     ]
    }
   ],
   "source": [
    "kreutzer.conditional_system_comparison(data_prop_col = \"src_length_class\")"
   ]
  },
  {
   "cell_type": "code",
   "execution_count": 9,
   "id": "8fa71a47-94bd-4f61-aecb-fd668d8b4789",
   "metadata": {},
   "outputs": [
    {
     "data": {
      "text/plain": [
       "{'chi_square': 32.43479533648133, 'df': 4, 'p': 1.558982328231373e-06}"
      ]
     },
     "execution_count": 9,
     "metadata": {},
     "output_type": "execute_result"
    }
   ],
   "source": [
    "kreutzer.ConditionalSystemComparison.glrt"
   ]
  },
  {
   "cell_type": "code",
   "execution_count": 10,
   "id": "dcda87e5-5374-4421-a888-7dcdbe2526a6",
   "metadata": {},
   "outputs": [
    {
     "data": {
      "image/png": "[encoded data removed]",
      "text/plain": [
       "<Figure size 432x288 with 1 Axes>"
      ]
     },
     "metadata": {},
     "output_type": "display_data"
    },
    {
     "data": {
      "text/plain": [
       "<ggplot: (8793001129247)>"
      ]
     },
     "execution_count": 10,
     "metadata": {},
     "output_type": "execute_result"
    }
   ],
   "source": [
    "kreutzer.ConditionalSystemComparison.interaction_plot"
   ]
  },
  {
   "cell_type": "code",
   "execution_count": 12,
   "id": "45d984ff-151e-4541-98a8-246225e160fb",
   "metadata": {
    "tags": []
   },
   "outputs": [
    {
     "data": {
      "text/html": [
       "<div>\n",
       "<style scoped>\n",
       "    .dataframe tbody tr th:only-of-type {\n",
       "        vertical-align: middle;\n",
       "    }\n",
       "\n",
       "    .dataframe tbody tr th {\n",
       "        vertical-align: top;\n",
       "    }\n",
       "\n",
       "    .dataframe thead th {\n",
       "        text-align: right;\n",
       "    }\n",
       "</style>\n",
       "<table border=\"1\" class=\"dataframe\">\n",
       "  <thead>\n",
       "    <tr style=\"text-align: right;\">\n",
       "      <th></th>\n",
       "      <th>system</th>\n",
       "      <th>src_length_class</th>\n",
       "      <th>Estimate</th>\n",
       "      <th>95CI_lo</th>\n",
       "      <th>95CI_up</th>\n",
       "      <th>SE</th>\n",
       "    </tr>\n",
       "  </thead>\n",
       "  <tbody>\n",
       "    <tr>\n",
       "      <th>0</th>\n",
       "      <td>Baseline</td>\n",
       "      <td>short</td>\n",
       "      <td>0.554</td>\n",
       "      <td>0.531</td>\n",
       "      <td>0.577</td>\n",
       "      <td>0.012</td>\n",
       "    </tr>\n",
       "    <tr>\n",
       "      <th>1</th>\n",
       "      <td>Marking</td>\n",
       "      <td>short</td>\n",
       "      <td>0.538</td>\n",
       "      <td>0.515</td>\n",
       "      <td>0.561</td>\n",
       "      <td>0.012</td>\n",
       "    </tr>\n",
       "    <tr>\n",
       "      <th>2</th>\n",
       "      <td>PostEdit</td>\n",
       "      <td>short</td>\n",
       "      <td>0.541</td>\n",
       "      <td>0.519</td>\n",
       "      <td>0.564</td>\n",
       "      <td>0.012</td>\n",
       "    </tr>\n",
       "    <tr>\n",
       "      <th>3</th>\n",
       "      <td>Baseline</td>\n",
       "      <td>typical</td>\n",
       "      <td>0.614</td>\n",
       "      <td>0.593</td>\n",
       "      <td>0.635</td>\n",
       "      <td>0.011</td>\n",
       "    </tr>\n",
       "    <tr>\n",
       "      <th>4</th>\n",
       "      <td>Marking</td>\n",
       "      <td>typical</td>\n",
       "      <td>0.606</td>\n",
       "      <td>0.585</td>\n",
       "      <td>0.627</td>\n",
       "      <td>0.011</td>\n",
       "    </tr>\n",
       "    <tr>\n",
       "      <th>5</th>\n",
       "      <td>PostEdit</td>\n",
       "      <td>typical</td>\n",
       "      <td>0.609</td>\n",
       "      <td>0.588</td>\n",
       "      <td>0.630</td>\n",
       "      <td>0.011</td>\n",
       "    </tr>\n",
       "    <tr>\n",
       "      <th>6</th>\n",
       "      <td>Baseline</td>\n",
       "      <td>very long</td>\n",
       "      <td>0.891</td>\n",
       "      <td>0.752</td>\n",
       "      <td>1.031</td>\n",
       "      <td>0.071</td>\n",
       "    </tr>\n",
       "    <tr>\n",
       "      <th>7</th>\n",
       "      <td>Marking</td>\n",
       "      <td>very long</td>\n",
       "      <td>0.818</td>\n",
       "      <td>0.681</td>\n",
       "      <td>0.955</td>\n",
       "      <td>0.070</td>\n",
       "    </tr>\n",
       "    <tr>\n",
       "      <th>8</th>\n",
       "      <td>PostEdit</td>\n",
       "      <td>very long</td>\n",
       "      <td>0.783</td>\n",
       "      <td>0.646</td>\n",
       "      <td>0.921</td>\n",
       "      <td>0.070</td>\n",
       "    </tr>\n",
       "  </tbody>\n",
       "</table>\n",
       "</div>"
      ],
      "text/plain": [
       "     system src_length_class  Estimate  95CI_lo  95CI_up     SE\n",
       "0  Baseline            short     0.554    0.531    0.577  0.012\n",
       "1   Marking            short     0.538    0.515    0.561  0.012\n",
       "2  PostEdit            short     0.541    0.519    0.564  0.012\n",
       "3  Baseline          typical     0.614    0.593    0.635  0.011\n",
       "4   Marking          typical     0.606    0.585    0.627  0.011\n",
       "5  PostEdit          typical     0.609    0.588    0.630  0.011\n",
       "6  Baseline        very long     0.891    0.752    1.031  0.071\n",
       "7   Marking        very long     0.818    0.681    0.955  0.070\n",
       "8  PostEdit        very long     0.783    0.646    0.921  0.070"
      ]
     },
     "execution_count": 12,
     "metadata": {},
     "output_type": "execute_result"
    }
   ],
   "source": [
    "kreutzer.ConditionalSystemComparison.means"
   ]
  },
  {
   "cell_type": "code",
   "execution_count": 13,
   "id": "22564240-fec7-48f6-825a-2262bf23f9b1",
   "metadata": {
    "tags": []
   },
   "outputs": [
    {
     "data": {
      "text/html": [
       "<div>\n",
       "<style scoped>\n",
       "    .dataframe tbody tr th:only-of-type {\n",
       "        vertical-align: middle;\n",
       "    }\n",
       "\n",
       "    .dataframe tbody tr th {\n",
       "        vertical-align: top;\n",
       "    }\n",
       "\n",
       "    .dataframe thead th {\n",
       "        text-align: right;\n",
       "    }\n",
       "</style>\n",
       "<table border=\"1\" class=\"dataframe\">\n",
       "  <thead>\n",
       "    <tr style=\"text-align: right;\">\n",
       "      <th></th>\n",
       "      <th>Contrast</th>\n",
       "      <th>src_length_class</th>\n",
       "      <th>Estimate</th>\n",
       "      <th>95CI_lo</th>\n",
       "      <th>95CI_up</th>\n",
       "      <th>SE</th>\n",
       "      <th>P-val</th>\n",
       "      <th>Effect_size_g</th>\n",
       "    </tr>\n",
       "  </thead>\n",
       "  <tbody>\n",
       "    <tr>\n",
       "      <th>0</th>\n",
       "      <td>Baseline - Marking</td>\n",
       "      <td>short</td>\n",
       "      <td>0.016</td>\n",
       "      <td>0.009</td>\n",
       "      <td>0.024</td>\n",
       "      <td>0.003</td>\n",
       "      <td>0.000</td>\n",
       "      <td>0.271684</td>\n",
       "    </tr>\n",
       "    <tr>\n",
       "      <th>1</th>\n",
       "      <td>Baseline - PostEdit</td>\n",
       "      <td>short</td>\n",
       "      <td>0.013</td>\n",
       "      <td>0.005</td>\n",
       "      <td>0.020</td>\n",
       "      <td>0.003</td>\n",
       "      <td>0.000</td>\n",
       "      <td>0.220743</td>\n",
       "    </tr>\n",
       "    <tr>\n",
       "      <th>2</th>\n",
       "      <td>Marking - PostEdit</td>\n",
       "      <td>short</td>\n",
       "      <td>-0.003</td>\n",
       "      <td>-0.009</td>\n",
       "      <td>0.002</td>\n",
       "      <td>0.002</td>\n",
       "      <td>0.268</td>\n",
       "      <td>-0.050941</td>\n",
       "    </tr>\n",
       "    <tr>\n",
       "      <th>3</th>\n",
       "      <td>Baseline - Marking</td>\n",
       "      <td>typical</td>\n",
       "      <td>0.008</td>\n",
       "      <td>0.001</td>\n",
       "      <td>0.015</td>\n",
       "      <td>0.003</td>\n",
       "      <td>0.018</td>\n",
       "      <td>0.135842</td>\n",
       "    </tr>\n",
       "    <tr>\n",
       "      <th>4</th>\n",
       "      <td>Baseline - PostEdit</td>\n",
       "      <td>typical</td>\n",
       "      <td>0.005</td>\n",
       "      <td>-0.002</td>\n",
       "      <td>0.012</td>\n",
       "      <td>0.003</td>\n",
       "      <td>0.210</td>\n",
       "      <td>0.084901</td>\n",
       "    </tr>\n",
       "    <tr>\n",
       "      <th>5</th>\n",
       "      <td>Marking - PostEdit</td>\n",
       "      <td>typical</td>\n",
       "      <td>-0.003</td>\n",
       "      <td>-0.008</td>\n",
       "      <td>0.002</td>\n",
       "      <td>0.002</td>\n",
       "      <td>0.305</td>\n",
       "      <td>-0.050941</td>\n",
       "    </tr>\n",
       "    <tr>\n",
       "      <th>6</th>\n",
       "      <td>Baseline - Marking</td>\n",
       "      <td>very long</td>\n",
       "      <td>0.073</td>\n",
       "      <td>0.029</td>\n",
       "      <td>0.117</td>\n",
       "      <td>0.019</td>\n",
       "      <td>0.000</td>\n",
       "      <td>1.239558</td>\n",
       "    </tr>\n",
       "    <tr>\n",
       "      <th>7</th>\n",
       "      <td>Baseline - PostEdit</td>\n",
       "      <td>very long</td>\n",
       "      <td>0.108</td>\n",
       "      <td>0.063</td>\n",
       "      <td>0.152</td>\n",
       "      <td>0.019</td>\n",
       "      <td>0.000</td>\n",
       "      <td>1.833866</td>\n",
       "    </tr>\n",
       "    <tr>\n",
       "      <th>8</th>\n",
       "      <td>Marking - PostEdit</td>\n",
       "      <td>very long</td>\n",
       "      <td>0.035</td>\n",
       "      <td>0.003</td>\n",
       "      <td>0.066</td>\n",
       "      <td>0.013</td>\n",
       "      <td>0.025</td>\n",
       "      <td>0.594308</td>\n",
       "    </tr>\n",
       "  </tbody>\n",
       "</table>\n",
       "</div>"
      ],
      "text/plain": [
       "              Contrast src_length_class  Estimate  95CI_lo  95CI_up     SE  \\\n",
       "0   Baseline - Marking            short     0.016    0.009    0.024  0.003   \n",
       "1  Baseline - PostEdit            short     0.013    0.005    0.020  0.003   \n",
       "2   Marking - PostEdit            short    -0.003   -0.009    0.002  0.002   \n",
       "3   Baseline - Marking          typical     0.008    0.001    0.015  0.003   \n",
       "4  Baseline - PostEdit          typical     0.005   -0.002    0.012  0.003   \n",
       "5   Marking - PostEdit          typical    -0.003   -0.008    0.002  0.002   \n",
       "6   Baseline - Marking        very long     0.073    0.029    0.117  0.019   \n",
       "7  Baseline - PostEdit        very long     0.108    0.063    0.152  0.019   \n",
       "8   Marking - PostEdit        very long     0.035    0.003    0.066  0.013   \n",
       "\n",
       "   P-val  Effect_size_g  \n",
       "0  0.000       0.271684  \n",
       "1  0.000       0.220743  \n",
       "2  0.268      -0.050941  \n",
       "3  0.018       0.135842  \n",
       "4  0.210       0.084901  \n",
       "5  0.305      -0.050941  \n",
       "6  0.000       1.239558  \n",
       "7  0.000       1.833866  \n",
       "8  0.025       0.594308  "
      ]
     },
     "execution_count": 13,
     "metadata": {},
     "output_type": "execute_result"
    }
   ],
   "source": [
    "kreutzer.ConditionalSystemComparison.contrasts"
   ]
  },
  {
   "cell_type": "code",
   "execution_count": 14,
   "id": "341ae324-f7a3-46c6-b46e-26d5a1eb7f41",
   "metadata": {
    "tags": []
   },
   "outputs": [
    {
     "data": {
      "text/plain": [
       "'src_length_class'"
      ]
     },
     "execution_count": 14,
     "metadata": {},
     "output_type": "execute_result"
    }
   ],
   "source": [
    "kreutzer.ConditionalSystemComparison.data_property"
   ]
  },
  {
   "cell_type": "code",
   "execution_count": 15,
   "id": "af114578-f2d9-417a-a631-e61fafd2bc93",
   "metadata": {},
   "outputs": [
    {
     "name": "stdout",
     "output_type": "stream",
     "text": [
      "WARNING: replication is not categorical! Datatype will be converted.\n",
      "Calculating variance decomposition.\n"
     ]
    }
   ],
   "source": [
    "kreutzer.icc(algorithm_id = \"Marking\", facet_cols = [\"replication\"])"
   ]
  },
  {
   "cell_type": "code",
   "execution_count": 16,
   "id": "9d912ec8-37be-470e-89dc-0932c738e8f3",
   "metadata": {},
   "outputs": [
    {
     "data": {
      "text/html": [
       "<div>\n",
       "<style scoped>\n",
       "    .dataframe tbody tr th:only-of-type {\n",
       "        vertical-align: middle;\n",
       "    }\n",
       "\n",
       "    .dataframe tbody tr th {\n",
       "        vertical-align: top;\n",
       "    }\n",
       "\n",
       "    .dataframe thead th {\n",
       "        text-align: right;\n",
       "    }\n",
       "</style>\n",
       "<table border=\"1\" class=\"dataframe\">\n",
       "  <thead>\n",
       "    <tr style=\"text-align: right;\">\n",
       "      <th></th>\n",
       "      <th>Var</th>\n",
       "      <th>ICC</th>\n",
       "    </tr>\n",
       "  </thead>\n",
       "  <tbody>\n",
       "    <tr>\n",
       "      <th>sentence_id</th>\n",
       "      <td>0.065892</td>\n",
       "      <td>98.363463</td>\n",
       "    </tr>\n",
       "    <tr>\n",
       "      <th>replication</th>\n",
       "      <td>0.000001</td>\n",
       "      <td>0.001797</td>\n",
       "    </tr>\n",
       "    <tr>\n",
       "      <th>Residual</th>\n",
       "      <td>0.001095</td>\n",
       "      <td>1.634740</td>\n",
       "    </tr>\n",
       "  </tbody>\n",
       "</table>\n",
       "</div>"
      ],
      "text/plain": [
       "                  Var        ICC\n",
       "sentence_id  0.065892  98.363463\n",
       "replication  0.000001   0.001797\n",
       "Residual     0.001095   1.634740"
      ]
     },
     "execution_count": 16,
     "metadata": {},
     "output_type": "execute_result"
    }
   ],
   "source": [
    "kreutzer.Reliability.icc"
   ]
  },
  {
   "cell_type": "markdown",
   "id": "ea8a8c85-b43d-4f4d-bc2b-af6be76b5193",
   "metadata": {},
   "source": [
    "#### Inferential Analysis: Reliability"
   ]
  },
  {
   "cell_type": "code",
   "execution_count": 2,
   "id": "5baade7e-45f3-40fd-b37c-b6b998a4238f",
   "metadata": {},
   "outputs": [],
   "source": [
    "eval_data = pd.read_csv('evaluation_data/kreutzer_reliability-marking.csv')\n",
    "eval_data = eval_data.astype({\"sentence_id\" : 'category', \"system\" : 'category'})\n",
    "#bin source sentence length\n",
    "eval_data = eval_data.assign(src_length_class = lambda x: pd.cut(x.src_length, bins=[np.min(x.src_length), 15, 55, np.max(x.src_length)], labels=[\"short\", \"typical\", \"very long\"], include_lowest=True))"
   ]
  },
  {
   "cell_type": "code",
   "execution_count": 3,
   "id": "96f34fbf-9ef8-4734-9c3f-240b16900520",
   "metadata": {},
   "outputs": [],
   "source": [
    "kreutzer = InferentialAnalysis(evaluation_data = eval_data, eval_metric_col = \"ter\", system_col = \"system\", input_identifier_col = \"sentence_id\")"
   ]
  },
  {
   "cell_type": "code",
   "execution_count": 4,
   "id": "b332b18e-ef6f-4243-b6a4-ebd5681b33b4",
   "metadata": {},
   "outputs": [
    {
     "name": "stdout",
     "output_type": "stream",
     "text": [
      "WARNING: decoder_dropout is not categorical! Datatype will be converted.\n",
      "WARNING: decoder_dropout_hidden is not categorical! Datatype will be converted.\n",
      "WARNING: encoder_dropout is not categorical! Datatype will be converted.\n",
      "WARNING: learning_rate is not categorical! Datatype will be converted.\n",
      "WARNING: seed is not categorical! Datatype will be converted.\n",
      "Calculating variance decomposition.\n"
     ]
    }
   ],
   "source": [
    "kreutzer.icc(algorithm_id = \"Marking\", facet_cols = [\"decoder_dropout\", \"decoder_dropout_hidden\", \"encoder_dropout\", \"learning_rate\", \"seed\"])"
   ]
  },
  {
   "cell_type": "code",
   "execution_count": 5,
   "id": "e990debd-bf18-4897-875a-91613e595408",
   "metadata": {},
   "outputs": [
    {
     "data": {
      "text/html": [
       "<div>\n",
       "<style scoped>\n",
       "    .dataframe tbody tr th:only-of-type {\n",
       "        vertical-align: middle;\n",
       "    }\n",
       "\n",
       "    .dataframe tbody tr th {\n",
       "        vertical-align: top;\n",
       "    }\n",
       "\n",
       "    .dataframe thead th {\n",
       "        text-align: right;\n",
       "    }\n",
       "</style>\n",
       "<table border=\"1\" class=\"dataframe\">\n",
       "  <thead>\n",
       "    <tr style=\"text-align: right;\">\n",
       "      <th></th>\n",
       "      <th>Var</th>\n",
       "      <th>ICC</th>\n",
       "    </tr>\n",
       "  </thead>\n",
       "  <tbody>\n",
       "    <tr>\n",
       "      <th>sentence_id</th>\n",
       "      <td>5.744993e-02</td>\n",
       "      <td>88.378145</td>\n",
       "    </tr>\n",
       "    <tr>\n",
       "      <th>decoder_dropout</th>\n",
       "      <td>3.023409e-05</td>\n",
       "      <td>0.046511</td>\n",
       "    </tr>\n",
       "    <tr>\n",
       "      <th>decoder_dropout_hidden</th>\n",
       "      <td>1.300297e-06</td>\n",
       "      <td>0.002000</td>\n",
       "    </tr>\n",
       "    <tr>\n",
       "      <th>encoder_dropout</th>\n",
       "      <td>2.245424e-05</td>\n",
       "      <td>0.034542</td>\n",
       "    </tr>\n",
       "    <tr>\n",
       "      <th>learning_rate</th>\n",
       "      <td>1.266809e-04</td>\n",
       "      <td>0.194880</td>\n",
       "    </tr>\n",
       "    <tr>\n",
       "      <th>seed</th>\n",
       "      <td>5.792373e-07</td>\n",
       "      <td>0.000891</td>\n",
       "    </tr>\n",
       "    <tr>\n",
       "      <th>Residual</th>\n",
       "      <td>7.373501e-03</td>\n",
       "      <td>11.343031</td>\n",
       "    </tr>\n",
       "  </tbody>\n",
       "</table>\n",
       "</div>"
      ],
      "text/plain": [
       "                                 Var        ICC\n",
       "sentence_id             5.744993e-02  88.378145\n",
       "decoder_dropout         3.023409e-05   0.046511\n",
       "decoder_dropout_hidden  1.300297e-06   0.002000\n",
       "encoder_dropout         2.245424e-05   0.034542\n",
       "learning_rate           1.266809e-04   0.194880\n",
       "seed                    5.792373e-07   0.000891\n",
       "Residual                7.373501e-03  11.343031"
      ]
     },
     "execution_count": 5,
     "metadata": {},
     "output_type": "execute_result"
    }
   ],
   "source": [
    "kreutzer.Reliability.icc"
   ]
  },
  {
   "cell_type": "markdown",
   "id": "b050f0c9-3230-435f-9974-e2beb3d2d2db",
   "metadata": {},
   "source": [
    "#### Investigate If the Choice of Learning Rate has a Significant Impact on the System Performance"
   ]
  },
  {
   "cell_type": "code",
   "execution_count": 6,
   "id": "2129cb7b-0409-4913-879e-29452670a0b7",
   "metadata": {},
   "outputs": [
    {
     "name": "stdout",
     "output_type": "stream",
     "text": [
      "Fitting H0-model.\n",
      "Fitting H1-model.\n",
      "P-values adjusted by tukey method for family of 6 estimates\n",
      "GLRT p-value <= alpha: Null hypothesis can be rejected! At least two systems are different. See contrasts for pairwise comparisons.\n"
     ]
    }
   ],
   "source": [
    "kreutzer.hyperparameter_assessment(algorithm_id = \"Marking\", hyperparameter_col = \"learning_rate\")"
   ]
  },
  {
   "cell_type": "code",
   "execution_count": 7,
   "id": "e0a57901-3cc0-4897-8b22-5f76c1dd5e79",
   "metadata": {},
   "outputs": [
    {
     "data": {
      "text/plain": [
       "{'chi_square': 20374.080926772207, 'df': 3, 'p': 0.0}"
      ]
     },
     "execution_count": 7,
     "metadata": {},
     "output_type": "execute_result"
    }
   ],
   "source": [
    "kreutzer.HyperParameterAssessment.glrt"
   ]
  },
  {
   "cell_type": "code",
   "execution_count": 8,
   "id": "dcfb4907-6634-4c6c-a740-c10e850debf5",
   "metadata": {},
   "outputs": [
    {
     "data": {
      "text/html": [
       "<div>\n",
       "<style scoped>\n",
       "    .dataframe tbody tr th:only-of-type {\n",
       "        vertical-align: middle;\n",
       "    }\n",
       "\n",
       "    .dataframe tbody tr th {\n",
       "        vertical-align: top;\n",
       "    }\n",
       "\n",
       "    .dataframe thead th {\n",
       "        text-align: right;\n",
       "    }\n",
       "</style>\n",
       "<table border=\"1\" class=\"dataframe\">\n",
       "  <thead>\n",
       "    <tr style=\"text-align: right;\">\n",
       "      <th></th>\n",
       "      <th>learning_rate</th>\n",
       "      <th>Estimate</th>\n",
       "      <th>95CI_lo</th>\n",
       "      <th>95CI_up</th>\n",
       "      <th>SE</th>\n",
       "    </tr>\n",
       "  </thead>\n",
       "  <tbody>\n",
       "    <tr>\n",
       "      <th>0</th>\n",
       "      <td>0.0001</td>\n",
       "      <td>0.581</td>\n",
       "      <td>0.567</td>\n",
       "      <td>0.596</td>\n",
       "      <td>0.007</td>\n",
       "    </tr>\n",
       "    <tr>\n",
       "      <th>1</th>\n",
       "      <td>0.0003</td>\n",
       "      <td>0.584</td>\n",
       "      <td>0.570</td>\n",
       "      <td>0.599</td>\n",
       "      <td>0.007</td>\n",
       "    </tr>\n",
       "    <tr>\n",
       "      <th>2</th>\n",
       "      <td>0.0005</td>\n",
       "      <td>0.589</td>\n",
       "      <td>0.574</td>\n",
       "      <td>0.604</td>\n",
       "      <td>0.007</td>\n",
       "    </tr>\n",
       "    <tr>\n",
       "      <th>3</th>\n",
       "      <td>0.001</td>\n",
       "      <td>0.606</td>\n",
       "      <td>0.592</td>\n",
       "      <td>0.621</td>\n",
       "      <td>0.007</td>\n",
       "    </tr>\n",
       "  </tbody>\n",
       "</table>\n",
       "</div>"
      ],
      "text/plain": [
       "  learning_rate  Estimate  95CI_lo  95CI_up     SE\n",
       "0        0.0001     0.581    0.567    0.596  0.007\n",
       "1        0.0003     0.584    0.570    0.599  0.007\n",
       "2        0.0005     0.589    0.574    0.604  0.007\n",
       "3         0.001     0.606    0.592    0.621  0.007"
      ]
     },
     "execution_count": 8,
     "metadata": {},
     "output_type": "execute_result"
    }
   ],
   "source": [
    "kreutzer.HyperParameterAssessment.means"
   ]
  },
  {
   "cell_type": "code",
   "execution_count": 9,
   "id": "6802a537-32ea-421e-a160-98c039d70951",
   "metadata": {},
   "outputs": [
    {
     "data": {
      "text/html": [
       "<div>\n",
       "<style scoped>\n",
       "    .dataframe tbody tr th:only-of-type {\n",
       "        vertical-align: middle;\n",
       "    }\n",
       "\n",
       "    .dataframe tbody tr th {\n",
       "        vertical-align: top;\n",
       "    }\n",
       "\n",
       "    .dataframe thead th {\n",
       "        text-align: right;\n",
       "    }\n",
       "</style>\n",
       "<table border=\"1\" class=\"dataframe\">\n",
       "  <thead>\n",
       "    <tr style=\"text-align: right;\">\n",
       "      <th></th>\n",
       "      <th>Contrast</th>\n",
       "      <th>Estimate</th>\n",
       "      <th>95CI_lo</th>\n",
       "      <th>95CI_up</th>\n",
       "      <th>SE</th>\n",
       "      <th>P-val</th>\n",
       "      <th>Effect_size_g</th>\n",
       "    </tr>\n",
       "  </thead>\n",
       "  <tbody>\n",
       "    <tr>\n",
       "      <th>0</th>\n",
       "      <td>learning_rate0.0001 - learning_rate0.0003</td>\n",
       "      <td>-0.003</td>\n",
       "      <td>-0.004</td>\n",
       "      <td>-0.003</td>\n",
       "      <td>0.0</td>\n",
       "      <td>0.0</td>\n",
       "      <td>-0.034840</td>\n",
       "    </tr>\n",
       "    <tr>\n",
       "      <th>1</th>\n",
       "      <td>learning_rate0.0001 - learning_rate0.0005</td>\n",
       "      <td>-0.008</td>\n",
       "      <td>-0.008</td>\n",
       "      <td>-0.007</td>\n",
       "      <td>0.0</td>\n",
       "      <td>0.0</td>\n",
       "      <td>-0.092908</td>\n",
       "    </tr>\n",
       "    <tr>\n",
       "      <th>2</th>\n",
       "      <td>learning_rate0.0001 - learning_rate0.001</td>\n",
       "      <td>-0.025</td>\n",
       "      <td>-0.026</td>\n",
       "      <td>-0.025</td>\n",
       "      <td>0.0</td>\n",
       "      <td>0.0</td>\n",
       "      <td>-0.290337</td>\n",
       "    </tr>\n",
       "    <tr>\n",
       "      <th>3</th>\n",
       "      <td>learning_rate0.0003 - learning_rate0.0005</td>\n",
       "      <td>-0.005</td>\n",
       "      <td>-0.005</td>\n",
       "      <td>-0.004</td>\n",
       "      <td>0.0</td>\n",
       "      <td>0.0</td>\n",
       "      <td>-0.058067</td>\n",
       "    </tr>\n",
       "    <tr>\n",
       "      <th>4</th>\n",
       "      <td>learning_rate0.0003 - learning_rate0.001</td>\n",
       "      <td>-0.022</td>\n",
       "      <td>-0.023</td>\n",
       "      <td>-0.022</td>\n",
       "      <td>0.0</td>\n",
       "      <td>0.0</td>\n",
       "      <td>-0.255496</td>\n",
       "    </tr>\n",
       "    <tr>\n",
       "      <th>5</th>\n",
       "      <td>learning_rate0.0005 - learning_rate0.001</td>\n",
       "      <td>-0.017</td>\n",
       "      <td>-0.018</td>\n",
       "      <td>-0.017</td>\n",
       "      <td>0.0</td>\n",
       "      <td>0.0</td>\n",
       "      <td>-0.197429</td>\n",
       "    </tr>\n",
       "  </tbody>\n",
       "</table>\n",
       "</div>"
      ],
      "text/plain": [
       "                                    Contrast  Estimate  95CI_lo  95CI_up   SE  \\\n",
       "0  learning_rate0.0001 - learning_rate0.0003    -0.003   -0.004   -0.003  0.0   \n",
       "1  learning_rate0.0001 - learning_rate0.0005    -0.008   -0.008   -0.007  0.0   \n",
       "2   learning_rate0.0001 - learning_rate0.001    -0.025   -0.026   -0.025  0.0   \n",
       "3  learning_rate0.0003 - learning_rate0.0005    -0.005   -0.005   -0.004  0.0   \n",
       "4   learning_rate0.0003 - learning_rate0.001    -0.022   -0.023   -0.022  0.0   \n",
       "5   learning_rate0.0005 - learning_rate0.001    -0.017   -0.018   -0.017  0.0   \n",
       "\n",
       "   P-val  Effect_size_g  \n",
       "0    0.0      -0.034840  \n",
       "1    0.0      -0.092908  \n",
       "2    0.0      -0.290337  \n",
       "3    0.0      -0.058067  \n",
       "4    0.0      -0.255496  \n",
       "5    0.0      -0.197429  "
      ]
     },
     "execution_count": 9,
     "metadata": {},
     "output_type": "execute_result"
    }
   ],
   "source": [
    "kreutzer.HyperParameterAssessment.contrasts"
   ]
  },
  {
   "cell_type": "code",
   "execution_count": 10,
   "id": "8142a815-9429-47fd-80c3-c11fe62b5379",
   "metadata": {
    "tags": []
   },
   "outputs": [
    {
     "data": {
      "text/plain": [
       "'Marking'"
      ]
     },
     "execution_count": 10,
     "metadata": {},
     "output_type": "execute_result"
    }
   ],
   "source": [
    "kreutzer.HyperParameterAssessment.algorithm"
   ]
  },
  {
   "cell_type": "markdown",
   "id": "e026a4d7-9542-4deb-8d2d-67df2514bd3a",
   "metadata": {
    "tags": []
   },
   "source": [
    "#### Assess If the Observed Hyper-Parameter Influence is Moderated by the **input length** of the Input Sentence"
   ]
  },
  {
   "cell_type": "code",
   "execution_count": 11,
   "id": "63d4b7d3-d157-46c5-9fe5-0fe177d106ac",
   "metadata": {},
   "outputs": [
    {
     "name": "stdout",
     "output_type": "stream",
     "text": [
      "Data property is a categorical variable. Applying cell means model and reporting means.\n",
      "Fitting H0-model.\n",
      "Fitting H1-model.\n",
      "P-values adjusted by tukey method for family of 6 estimates\n",
      "GLRT p-value <= alpha: Null hypothesis can be rejected! At least two systems depend differently to the data property. See contrasts for pairwise comparisons.\n"
     ]
    }
   ],
   "source": [
    "kreutzer.conditional_hyperparameter_assessment(algorithm_id = \"Marking\", hyperparameter_col = \"learning_rate\", data_prop_col = \"src_length_class\")"
   ]
  },
  {
   "cell_type": "code",
   "execution_count": 12,
   "id": "3b8b7efe-de1a-4b2e-b7b1-1c6b9b62e8a7",
   "metadata": {},
   "outputs": [
    {
     "data": {
      "text/plain": [
       "{'chi_square': 2898.4041851609945, 'df': 6, 'p': 0.0}"
      ]
     },
     "execution_count": 12,
     "metadata": {},
     "output_type": "execute_result"
    }
   ],
   "source": [
    "kreutzer.ConditionalHyperParameterAssessment.glrt"
   ]
  },
  {
   "cell_type": "code",
   "execution_count": 13,
   "id": "f2264889-ae87-4524-835a-81d2824fdd78",
   "metadata": {
    "tags": []
   },
   "outputs": [
    {
     "data": {
      "image/png": "[encoded data removed]",
      "text/plain": [
       "<Figure size 432x288 with 1 Axes>"
      ]
     },
     "metadata": {},
     "output_type": "display_data"
    },
    {
     "data": {
      "text/plain": [
       "<ggplot: (8736565902460)>"
      ]
     },
     "execution_count": 13,
     "metadata": {},
     "output_type": "execute_result"
    }
   ],
   "source": [
    "kreutzer.ConditionalHyperParameterAssessment.interaction_plot"
   ]
  },
  {
   "cell_type": "code",
   "execution_count": 170,
   "id": "1043861a-d43c-4096-85d9-0a6b9327a6da",
   "metadata": {
    "tags": []
   },
   "outputs": [
    {
     "data": {
      "text/html": [
       "<div>\n",
       "<style scoped>\n",
       "    .dataframe tbody tr th:only-of-type {\n",
       "        vertical-align: middle;\n",
       "    }\n",
       "\n",
       "    .dataframe tbody tr th {\n",
       "        vertical-align: top;\n",
       "    }\n",
       "\n",
       "    .dataframe thead th {\n",
       "        text-align: right;\n",
       "    }\n",
       "</style>\n",
       "<table border=\"1\" class=\"dataframe\">\n",
       "  <thead>\n",
       "    <tr style=\"text-align: right;\">\n",
       "      <th></th>\n",
       "      <th>learning_rate</th>\n",
       "      <th>src_length_class</th>\n",
       "      <th>Estimate</th>\n",
       "      <th>95CI_lo</th>\n",
       "      <th>95CI_up</th>\n",
       "      <th>SE</th>\n",
       "    </tr>\n",
       "  </thead>\n",
       "  <tbody>\n",
       "    <tr>\n",
       "      <th>0</th>\n",
       "      <td>0.0001</td>\n",
       "      <td>short</td>\n",
       "      <td>0.534</td>\n",
       "      <td>0.510</td>\n",
       "      <td>0.557</td>\n",
       "      <td>0.012</td>\n",
       "    </tr>\n",
       "    <tr>\n",
       "      <th>1</th>\n",
       "      <td>0.0003</td>\n",
       "      <td>short</td>\n",
       "      <td>0.537</td>\n",
       "      <td>0.513</td>\n",
       "      <td>0.560</td>\n",
       "      <td>0.012</td>\n",
       "    </tr>\n",
       "    <tr>\n",
       "      <th>2</th>\n",
       "      <td>0.0005</td>\n",
       "      <td>short</td>\n",
       "      <td>0.541</td>\n",
       "      <td>0.517</td>\n",
       "      <td>0.564</td>\n",
       "      <td>0.012</td>\n",
       "    </tr>\n",
       "    <tr>\n",
       "      <th>3</th>\n",
       "      <td>0.001</td>\n",
       "      <td>short</td>\n",
       "      <td>0.553</td>\n",
       "      <td>0.530</td>\n",
       "      <td>0.577</td>\n",
       "      <td>0.012</td>\n",
       "    </tr>\n",
       "    <tr>\n",
       "      <th>4</th>\n",
       "      <td>0.0001</td>\n",
       "      <td>typical</td>\n",
       "      <td>0.605</td>\n",
       "      <td>0.586</td>\n",
       "      <td>0.623</td>\n",
       "      <td>0.009</td>\n",
       "    </tr>\n",
       "    <tr>\n",
       "      <th>5</th>\n",
       "      <td>0.0003</td>\n",
       "      <td>typical</td>\n",
       "      <td>0.607</td>\n",
       "      <td>0.589</td>\n",
       "      <td>0.625</td>\n",
       "      <td>0.009</td>\n",
       "    </tr>\n",
       "    <tr>\n",
       "      <th>6</th>\n",
       "      <td>0.0005</td>\n",
       "      <td>typical</td>\n",
       "      <td>0.612</td>\n",
       "      <td>0.593</td>\n",
       "      <td>0.630</td>\n",
       "      <td>0.009</td>\n",
       "    </tr>\n",
       "    <tr>\n",
       "      <th>7</th>\n",
       "      <td>0.001</td>\n",
       "      <td>typical</td>\n",
       "      <td>0.631</td>\n",
       "      <td>0.613</td>\n",
       "      <td>0.649</td>\n",
       "      <td>0.009</td>\n",
       "    </tr>\n",
       "    <tr>\n",
       "      <th>8</th>\n",
       "      <td>0.0001</td>\n",
       "      <td>very long</td>\n",
       "      <td>0.728</td>\n",
       "      <td>0.636</td>\n",
       "      <td>0.820</td>\n",
       "      <td>0.047</td>\n",
       "    </tr>\n",
       "    <tr>\n",
       "      <th>9</th>\n",
       "      <td>0.0003</td>\n",
       "      <td>very long</td>\n",
       "      <td>0.741</td>\n",
       "      <td>0.649</td>\n",
       "      <td>0.834</td>\n",
       "      <td>0.047</td>\n",
       "    </tr>\n",
       "    <tr>\n",
       "      <th>10</th>\n",
       "      <td>0.0005</td>\n",
       "      <td>very long</td>\n",
       "      <td>0.761</td>\n",
       "      <td>0.669</td>\n",
       "      <td>0.854</td>\n",
       "      <td>0.047</td>\n",
       "    </tr>\n",
       "    <tr>\n",
       "      <th>11</th>\n",
       "      <td>0.001</td>\n",
       "      <td>very long</td>\n",
       "      <td>0.810</td>\n",
       "      <td>0.718</td>\n",
       "      <td>0.902</td>\n",
       "      <td>0.047</td>\n",
       "    </tr>\n",
       "  </tbody>\n",
       "</table>\n",
       "</div>"
      ],
      "text/plain": [
       "   learning_rate src_length_class  Estimate  95CI_lo  95CI_up     SE\n",
       "0         0.0001            short     0.534    0.510    0.557  0.012\n",
       "1         0.0003            short     0.537    0.513    0.560  0.012\n",
       "2         0.0005            short     0.541    0.517    0.564  0.012\n",
       "3          0.001            short     0.553    0.530    0.577  0.012\n",
       "4         0.0001          typical     0.605    0.586    0.623  0.009\n",
       "5         0.0003          typical     0.607    0.589    0.625  0.009\n",
       "6         0.0005          typical     0.612    0.593    0.630  0.009\n",
       "7          0.001          typical     0.631    0.613    0.649  0.009\n",
       "8         0.0001        very long     0.728    0.636    0.820  0.047\n",
       "9         0.0003        very long     0.741    0.649    0.834  0.047\n",
       "10        0.0005        very long     0.761    0.669    0.854  0.047\n",
       "11         0.001        very long     0.810    0.718    0.902  0.047"
      ]
     },
     "execution_count": 170,
     "metadata": {},
     "output_type": "execute_result"
    }
   ],
   "source": [
    "kreutzer.ConditionalHyperParameterAssessment.means"
   ]
  },
  {
   "cell_type": "code",
   "execution_count": 15,
   "id": "b58c0064-8a5d-4892-9121-2dc822d9ed63",
   "metadata": {
    "tags": []
   },
   "outputs": [
    {
     "data": {
      "text/html": [
       "<div>\n",
       "<style scoped>\n",
       "    .dataframe tbody tr th:only-of-type {\n",
       "        vertical-align: middle;\n",
       "    }\n",
       "\n",
       "    .dataframe tbody tr th {\n",
       "        vertical-align: top;\n",
       "    }\n",
       "\n",
       "    .dataframe thead th {\n",
       "        text-align: right;\n",
       "    }\n",
       "</style>\n",
       "<table border=\"1\" class=\"dataframe\">\n",
       "  <thead>\n",
       "    <tr style=\"text-align: right;\">\n",
       "      <th></th>\n",
       "      <th>Contrast</th>\n",
       "      <th>src_length_class</th>\n",
       "      <th>Estimate</th>\n",
       "      <th>95CI_lo</th>\n",
       "      <th>95CI_up</th>\n",
       "      <th>SE</th>\n",
       "      <th>P-val</th>\n",
       "      <th>Effect_size_g</th>\n",
       "    </tr>\n",
       "  </thead>\n",
       "  <tbody>\n",
       "    <tr>\n",
       "      <th>0</th>\n",
       "      <td>learning_rate0.0001 - learning_rate0.0003</td>\n",
       "      <td>short</td>\n",
       "      <td>-0.003</td>\n",
       "      <td>-0.004</td>\n",
       "      <td>-0.003</td>\n",
       "      <td>0.000</td>\n",
       "      <td>0.0</td>\n",
       "      <td>-0.034872</td>\n",
       "    </tr>\n",
       "    <tr>\n",
       "      <th>1</th>\n",
       "      <td>learning_rate0.0001 - learning_rate0.0005</td>\n",
       "      <td>short</td>\n",
       "      <td>-0.007</td>\n",
       "      <td>-0.008</td>\n",
       "      <td>-0.007</td>\n",
       "      <td>0.000</td>\n",
       "      <td>0.0</td>\n",
       "      <td>-0.081368</td>\n",
       "    </tr>\n",
       "    <tr>\n",
       "      <th>2</th>\n",
       "      <td>learning_rate0.0001 - learning_rate0.001</td>\n",
       "      <td>short</td>\n",
       "      <td>-0.020</td>\n",
       "      <td>-0.021</td>\n",
       "      <td>-0.019</td>\n",
       "      <td>0.000</td>\n",
       "      <td>0.0</td>\n",
       "      <td>-0.232480</td>\n",
       "    </tr>\n",
       "    <tr>\n",
       "      <th>3</th>\n",
       "      <td>learning_rate0.0003 - learning_rate0.0005</td>\n",
       "      <td>short</td>\n",
       "      <td>-0.004</td>\n",
       "      <td>-0.005</td>\n",
       "      <td>-0.003</td>\n",
       "      <td>0.000</td>\n",
       "      <td>0.0</td>\n",
       "      <td>-0.046496</td>\n",
       "    </tr>\n",
       "    <tr>\n",
       "      <th>4</th>\n",
       "      <td>learning_rate0.0003 - learning_rate0.001</td>\n",
       "      <td>short</td>\n",
       "      <td>-0.016</td>\n",
       "      <td>-0.017</td>\n",
       "      <td>-0.016</td>\n",
       "      <td>0.000</td>\n",
       "      <td>0.0</td>\n",
       "      <td>-0.185984</td>\n",
       "    </tr>\n",
       "    <tr>\n",
       "      <th>5</th>\n",
       "      <td>learning_rate0.0005 - learning_rate0.001</td>\n",
       "      <td>short</td>\n",
       "      <td>-0.012</td>\n",
       "      <td>-0.013</td>\n",
       "      <td>-0.012</td>\n",
       "      <td>0.000</td>\n",
       "      <td>0.0</td>\n",
       "      <td>-0.139488</td>\n",
       "    </tr>\n",
       "    <tr>\n",
       "      <th>6</th>\n",
       "      <td>learning_rate0.0001 - learning_rate0.0003</td>\n",
       "      <td>typical</td>\n",
       "      <td>-0.002</td>\n",
       "      <td>-0.003</td>\n",
       "      <td>-0.002</td>\n",
       "      <td>0.000</td>\n",
       "      <td>0.0</td>\n",
       "      <td>-0.023248</td>\n",
       "    </tr>\n",
       "    <tr>\n",
       "      <th>7</th>\n",
       "      <td>learning_rate0.0001 - learning_rate0.0005</td>\n",
       "      <td>typical</td>\n",
       "      <td>-0.007</td>\n",
       "      <td>-0.008</td>\n",
       "      <td>-0.006</td>\n",
       "      <td>0.000</td>\n",
       "      <td>0.0</td>\n",
       "      <td>-0.081368</td>\n",
       "    </tr>\n",
       "    <tr>\n",
       "      <th>8</th>\n",
       "      <td>learning_rate0.0001 - learning_rate0.001</td>\n",
       "      <td>typical</td>\n",
       "      <td>-0.026</td>\n",
       "      <td>-0.027</td>\n",
       "      <td>-0.026</td>\n",
       "      <td>0.000</td>\n",
       "      <td>0.0</td>\n",
       "      <td>-0.302224</td>\n",
       "    </tr>\n",
       "    <tr>\n",
       "      <th>9</th>\n",
       "      <td>learning_rate0.0003 - learning_rate0.0005</td>\n",
       "      <td>typical</td>\n",
       "      <td>-0.005</td>\n",
       "      <td>-0.005</td>\n",
       "      <td>-0.004</td>\n",
       "      <td>0.000</td>\n",
       "      <td>0.0</td>\n",
       "      <td>-0.058120</td>\n",
       "    </tr>\n",
       "    <tr>\n",
       "      <th>10</th>\n",
       "      <td>learning_rate0.0003 - learning_rate0.001</td>\n",
       "      <td>typical</td>\n",
       "      <td>-0.024</td>\n",
       "      <td>-0.025</td>\n",
       "      <td>-0.023</td>\n",
       "      <td>0.000</td>\n",
       "      <td>0.0</td>\n",
       "      <td>-0.278976</td>\n",
       "    </tr>\n",
       "    <tr>\n",
       "      <th>11</th>\n",
       "      <td>learning_rate0.0005 - learning_rate0.001</td>\n",
       "      <td>typical</td>\n",
       "      <td>-0.019</td>\n",
       "      <td>-0.020</td>\n",
       "      <td>-0.019</td>\n",
       "      <td>0.000</td>\n",
       "      <td>0.0</td>\n",
       "      <td>-0.220856</td>\n",
       "    </tr>\n",
       "    <tr>\n",
       "      <th>12</th>\n",
       "      <td>learning_rate0.0001 - learning_rate0.0003</td>\n",
       "      <td>very long</td>\n",
       "      <td>-0.013</td>\n",
       "      <td>-0.016</td>\n",
       "      <td>-0.010</td>\n",
       "      <td>0.001</td>\n",
       "      <td>0.0</td>\n",
       "      <td>-0.151112</td>\n",
       "    </tr>\n",
       "    <tr>\n",
       "      <th>13</th>\n",
       "      <td>learning_rate0.0001 - learning_rate0.0005</td>\n",
       "      <td>very long</td>\n",
       "      <td>-0.033</td>\n",
       "      <td>-0.036</td>\n",
       "      <td>-0.030</td>\n",
       "      <td>0.001</td>\n",
       "      <td>0.0</td>\n",
       "      <td>-0.383592</td>\n",
       "    </tr>\n",
       "    <tr>\n",
       "      <th>14</th>\n",
       "      <td>learning_rate0.0001 - learning_rate0.001</td>\n",
       "      <td>very long</td>\n",
       "      <td>-0.082</td>\n",
       "      <td>-0.085</td>\n",
       "      <td>-0.079</td>\n",
       "      <td>0.001</td>\n",
       "      <td>0.0</td>\n",
       "      <td>-0.953168</td>\n",
       "    </tr>\n",
       "    <tr>\n",
       "      <th>15</th>\n",
       "      <td>learning_rate0.0003 - learning_rate0.0005</td>\n",
       "      <td>very long</td>\n",
       "      <td>-0.020</td>\n",
       "      <td>-0.023</td>\n",
       "      <td>-0.017</td>\n",
       "      <td>0.001</td>\n",
       "      <td>0.0</td>\n",
       "      <td>-0.232480</td>\n",
       "    </tr>\n",
       "    <tr>\n",
       "      <th>16</th>\n",
       "      <td>learning_rate0.0003 - learning_rate0.001</td>\n",
       "      <td>very long</td>\n",
       "      <td>-0.069</td>\n",
       "      <td>-0.072</td>\n",
       "      <td>-0.066</td>\n",
       "      <td>0.001</td>\n",
       "      <td>0.0</td>\n",
       "      <td>-0.802056</td>\n",
       "    </tr>\n",
       "    <tr>\n",
       "      <th>17</th>\n",
       "      <td>learning_rate0.0005 - learning_rate0.001</td>\n",
       "      <td>very long</td>\n",
       "      <td>-0.049</td>\n",
       "      <td>-0.052</td>\n",
       "      <td>-0.046</td>\n",
       "      <td>0.001</td>\n",
       "      <td>0.0</td>\n",
       "      <td>-0.569576</td>\n",
       "    </tr>\n",
       "  </tbody>\n",
       "</table>\n",
       "</div>"
      ],
      "text/plain": [
       "                                     Contrast src_length_class  Estimate  \\\n",
       "0   learning_rate0.0001 - learning_rate0.0003            short    -0.003   \n",
       "1   learning_rate0.0001 - learning_rate0.0005            short    -0.007   \n",
       "2    learning_rate0.0001 - learning_rate0.001            short    -0.020   \n",
       "3   learning_rate0.0003 - learning_rate0.0005            short    -0.004   \n",
       "4    learning_rate0.0003 - learning_rate0.001            short    -0.016   \n",
       "5    learning_rate0.0005 - learning_rate0.001            short    -0.012   \n",
       "6   learning_rate0.0001 - learning_rate0.0003          typical    -0.002   \n",
       "7   learning_rate0.0001 - learning_rate0.0005          typical    -0.007   \n",
       "8    learning_rate0.0001 - learning_rate0.001          typical    -0.026   \n",
       "9   learning_rate0.0003 - learning_rate0.0005          typical    -0.005   \n",
       "10   learning_rate0.0003 - learning_rate0.001          typical    -0.024   \n",
       "11   learning_rate0.0005 - learning_rate0.001          typical    -0.019   \n",
       "12  learning_rate0.0001 - learning_rate0.0003        very long    -0.013   \n",
       "13  learning_rate0.0001 - learning_rate0.0005        very long    -0.033   \n",
       "14   learning_rate0.0001 - learning_rate0.001        very long    -0.082   \n",
       "15  learning_rate0.0003 - learning_rate0.0005        very long    -0.020   \n",
       "16   learning_rate0.0003 - learning_rate0.001        very long    -0.069   \n",
       "17   learning_rate0.0005 - learning_rate0.001        very long    -0.049   \n",
       "\n",
       "    95CI_lo  95CI_up     SE  P-val  Effect_size_g  \n",
       "0    -0.004   -0.003  0.000    0.0      -0.034872  \n",
       "1    -0.008   -0.007  0.000    0.0      -0.081368  \n",
       "2    -0.021   -0.019  0.000    0.0      -0.232480  \n",
       "3    -0.005   -0.003  0.000    0.0      -0.046496  \n",
       "4    -0.017   -0.016  0.000    0.0      -0.185984  \n",
       "5    -0.013   -0.012  0.000    0.0      -0.139488  \n",
       "6    -0.003   -0.002  0.000    0.0      -0.023248  \n",
       "7    -0.008   -0.006  0.000    0.0      -0.081368  \n",
       "8    -0.027   -0.026  0.000    0.0      -0.302224  \n",
       "9    -0.005   -0.004  0.000    0.0      -0.058120  \n",
       "10   -0.025   -0.023  0.000    0.0      -0.278976  \n",
       "11   -0.020   -0.019  0.000    0.0      -0.220856  \n",
       "12   -0.016   -0.010  0.001    0.0      -0.151112  \n",
       "13   -0.036   -0.030  0.001    0.0      -0.383592  \n",
       "14   -0.085   -0.079  0.001    0.0      -0.953168  \n",
       "15   -0.023   -0.017  0.001    0.0      -0.232480  \n",
       "16   -0.072   -0.066  0.001    0.0      -0.802056  \n",
       "17   -0.052   -0.046  0.001    0.0      -0.569576  "
      ]
     },
     "execution_count": 15,
     "metadata": {},
     "output_type": "execute_result"
    }
   ],
   "source": [
    "kreutzer.ConditionalHyperParameterAssessment.contrasts"
   ]
  },
  {
   "cell_type": "code",
   "execution_count": 16,
   "id": "64de6a8b-15e5-4374-aee2-e947e46fde18",
   "metadata": {
    "tags": []
   },
   "outputs": [
    {
     "data": {
      "text/plain": [
       "'Marking'"
      ]
     },
     "execution_count": 16,
     "metadata": {},
     "output_type": "execute_result"
    }
   ],
   "source": [
    "kreutzer.ConditionalHyperParameterAssessment.algorithm"
   ]
  },
  {
   "cell_type": "code",
   "execution_count": 17,
   "id": "d950df00-77f4-4e4f-a0c9-88eca024156b",
   "metadata": {
    "tags": []
   },
   "outputs": [
    {
     "data": {
      "text/plain": [
       "'src_length_class'"
      ]
     },
     "execution_count": 17,
     "metadata": {},
     "output_type": "execute_result"
    }
   ],
   "source": [
    "kreutzer.ConditionalHyperParameterAssessment.data_property"
   ]
  }
 ],
 "metadata": {
  "kernelspec": {
   "display_name": "Python 3 (ipykernel)",
   "language": "python",
   "name": "python3"
  },
  "language_info": {
   "codemirror_mode": {
    "name": "ipython",
    "version": 3
   },
   "file_extension": ".py",
   "mimetype": "text/x-python",
   "name": "python",
   "nbconvert_exporter": "python",
   "pygments_lexer": "ipython3",
   "version": "3.9.13"
  }
 },
 "nbformat": 4,
 "nbformat_minor": 5
}
