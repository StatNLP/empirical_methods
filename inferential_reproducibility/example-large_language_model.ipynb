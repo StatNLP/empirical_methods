{
 "cells": [
  {
   "cell_type": "markdown",
   "id": "cdf7913e-d79b-4f69-af4f-43a6762e189d",
   "metadata": {
    "tags": []
   },
   "source": [
    "## Example: Large Language Model [Aghajanyan et al. 2021]"
   ]
  },
  {
   "cell_type": "code",
   "execution_count": 9,
   "id": "2baabd05-8b21-4ee1-abc8-4decb63d4c5f",
   "metadata": {
    "tags": []
   },
   "outputs": [],
   "source": [
    "from inferential_analysis import InferentialAnalysis\n",
    "import pandas as pd #needed for data reading & wrangling\n",
    "import numpy as np #needed for data reading & wrangling"
   ]
  },
  {
   "cell_type": "markdown",
   "id": "54e60926-a12a-4d2d-9b0b-d71dbd0218ed",
   "metadata": {},
   "source": [
    "### Training Reproducibility: Statistical Significance Testing of Best Baseline vs Best Competitor  "
   ]
  },
  {
   "cell_type": "code",
   "execution_count": 10,
   "id": "02f5289a-eeaa-46ba-a521-e420c0a61b5e",
   "metadata": {
    "tags": []
   },
   "outputs": [],
   "source": [
    "eval_data = pd.read_csv('evaluation_data/aghajanyan_cnn-best.csv', low_memory = False)\n",
    "eval_data = eval_data.astype({\"summary_id\" : 'category', \"system\" : 'category'})"
   ]
  },
  {
   "cell_type": "code",
   "execution_count": 11,
   "id": "ce09a58e-6741-4675-8323-41bdc0d66bea",
   "metadata": {},
   "outputs": [],
   "source": [
    "my_analysis = InferentialAnalysis(evaluation_data = eval_data, eval_metric_col = \"rouge_2\", system_col = \"system\", input_identifier_col = \"summary_id\")"
   ]
  },
  {
   "cell_type": "code",
   "execution_count": 12,
   "id": "e511378a-3193-4cb1-b2f7-7627656fc5e5",
   "metadata": {},
   "outputs": [
    {
     "name": "stdout",
     "output_type": "stream",
     "text": [
      "Fitting H0-model.\n",
      "Fitting H1-model.\n",
      "GLRT p-value <= alpha: Null hypothesis can be rejected! At least two systems are different. See contrasts for pairwise comparisons.\n"
     ]
    }
   ],
   "source": [
    "my_analysis.system_comparison()"
   ]
  },
  {
   "cell_type": "code",
   "execution_count": 13,
   "id": "ef4c4b35-5195-45e4-acee-890d15a7cff8",
   "metadata": {},
   "outputs": [
    {
     "data": {
      "text/plain": [
       "{'chi_square': 37.020413786842255, 'df': 1, 'p': 1.1689894607869178e-09}"
      ]
     },
     "execution_count": 13,
     "metadata": {},
     "output_type": "execute_result"
    }
   ],
   "source": [
    "my_analysis.SystemComparison.glrt"
   ]
  },
  {
   "cell_type": "code",
   "execution_count": 14,
   "id": "559b285d-60fe-4785-925b-18b480147181",
   "metadata": {},
   "outputs": [
    {
     "data": {
      "text/html": [
       "<div>\n",
       "<style scoped>\n",
       "    .dataframe tbody tr th:only-of-type {\n",
       "        vertical-align: middle;\n",
       "    }\n",
       "\n",
       "    .dataframe tbody tr th {\n",
       "        vertical-align: top;\n",
       "    }\n",
       "\n",
       "    .dataframe thead th {\n",
       "        text-align: right;\n",
       "    }\n",
       "</style>\n",
       "<table border=\"1\" class=\"dataframe\">\n",
       "  <thead>\n",
       "    <tr style=\"text-align: right;\">\n",
       "      <th></th>\n",
       "      <th>system</th>\n",
       "      <th>Estimate</th>\n",
       "      <th>95CI_lo</th>\n",
       "      <th>95CI_up</th>\n",
       "      <th>SE</th>\n",
       "    </tr>\n",
       "  </thead>\n",
       "  <tbody>\n",
       "    <tr>\n",
       "      <th>0</th>\n",
       "      <td>Baseline</td>\n",
       "      <td>0.213</td>\n",
       "      <td>0.210</td>\n",
       "      <td>0.215</td>\n",
       "      <td>0.001</td>\n",
       "    </tr>\n",
       "    <tr>\n",
       "      <th>1</th>\n",
       "      <td>SOTA</td>\n",
       "      <td>0.217</td>\n",
       "      <td>0.215</td>\n",
       "      <td>0.220</td>\n",
       "      <td>0.001</td>\n",
       "    </tr>\n",
       "  </tbody>\n",
       "</table>\n",
       "</div>"
      ],
      "text/plain": [
       "     system  Estimate  95CI_lo  95CI_up     SE\n",
       "0  Baseline     0.213    0.210    0.215  0.001\n",
       "1      SOTA     0.217    0.215    0.220  0.001"
      ]
     },
     "execution_count": 14,
     "metadata": {},
     "output_type": "execute_result"
    }
   ],
   "source": [
    "my_analysis.SystemComparison.means"
   ]
  },
  {
   "cell_type": "code",
   "execution_count": 15,
   "id": "e70c530e-fb7a-4d9c-8b2d-d26e85934786",
   "metadata": {},
   "outputs": [
    {
     "data": {
      "text/html": [
       "<div>\n",
       "<style scoped>\n",
       "    .dataframe tbody tr th:only-of-type {\n",
       "        vertical-align: middle;\n",
       "    }\n",
       "\n",
       "    .dataframe tbody tr th {\n",
       "        vertical-align: top;\n",
       "    }\n",
       "\n",
       "    .dataframe thead th {\n",
       "        text-align: right;\n",
       "    }\n",
       "</style>\n",
       "<table border=\"1\" class=\"dataframe\">\n",
       "  <thead>\n",
       "    <tr style=\"text-align: right;\">\n",
       "      <th></th>\n",
       "      <th>Contrast</th>\n",
       "      <th>Estimate</th>\n",
       "      <th>95CI_lo</th>\n",
       "      <th>95CI_up</th>\n",
       "      <th>SE</th>\n",
       "      <th>P-val</th>\n",
       "      <th>Effect_size_g</th>\n",
       "    </tr>\n",
       "  </thead>\n",
       "  <tbody>\n",
       "    <tr>\n",
       "      <th>0</th>\n",
       "      <td>Baseline - SOTA</td>\n",
       "      <td>-0.005</td>\n",
       "      <td>-0.006</td>\n",
       "      <td>-0.003</td>\n",
       "      <td>0.001</td>\n",
       "      <td>0.0</td>\n",
       "      <td>-0.088419</td>\n",
       "    </tr>\n",
       "  </tbody>\n",
       "</table>\n",
       "</div>"
      ],
      "text/plain": [
       "          Contrast  Estimate  95CI_lo  95CI_up     SE  P-val  Effect_size_g\n",
       "0  Baseline - SOTA    -0.005   -0.006   -0.003  0.001    0.0      -0.088419"
      ]
     },
     "execution_count": 15,
     "metadata": {},
     "output_type": "execute_result"
    }
   ],
   "source": [
    "my_analysis.SystemComparison.contrasts"
   ]
  },
  {
   "cell_type": "markdown",
   "id": "77ebcbd3-f66e-4be3-9841-103e3f73d332",
   "metadata": {
    "tags": []
   },
   "source": [
    "#### Investigate if the observed performance difference depends on the **word rarity** score of the input summary"
   ]
  },
  {
   "cell_type": "code",
   "execution_count": 16,
   "id": "65d8a19f-9a06-456c-a415-8712cfd7ea86",
   "metadata": {
    "tags": []
   },
   "outputs": [
    {
     "name": "stdout",
     "output_type": "stream",
     "text": [
      "Data property is a numeric variable. Applying indivdual trends model and reporting slopes.\n",
      "Fitting H0-model.\n",
      "Fitting H1-model.\n",
      "GLRT p-value <= alpha: Null hypothesis can be rejected! At least two systems depend differently to the data property. See contrasts for pairwise comparisons.\n"
     ]
    }
   ],
   "source": [
    "my_analysis.conditional_system_comparison(data_prop_col = \"word_rarity\")"
   ]
  },
  {
   "cell_type": "code",
   "execution_count": 17,
   "id": "fa48dd92-34c6-445f-9812-2b8083b116ee",
   "metadata": {},
   "outputs": [
    {
     "data": {
      "text/plain": [
       "{'chi_square': 4.463576956077304, 'df': 1, 'p': 0.034624919652044395}"
      ]
     },
     "execution_count": 17,
     "metadata": {},
     "output_type": "execute_result"
    }
   ],
   "source": [
    "my_analysis.ConditionalSystemComparison.glrt"
   ]
  },
  {
   "cell_type": "code",
   "execution_count": 18,
   "id": "a3d9585c-9344-4185-9bf0-cc879cafe129",
   "metadata": {},
   "outputs": [
    {
     "data": {
      "image/png": "[encoded data removed]",
      "text/plain": [
       "<Figure size 432x288 with 1 Axes>"
      ]
     },
     "metadata": {},
     "output_type": "display_data"
    },
    {
     "data": {
      "text/plain": [
       "<ggplot: (8770776289061)>"
      ]
     },
     "execution_count": 18,
     "metadata": {},
     "output_type": "execute_result"
    }
   ],
   "source": [
    "my_analysis.ConditionalSystemComparison.interaction_plot"
   ]
  },
  {
   "cell_type": "code",
   "execution_count": 19,
   "id": "ffa31204-1029-4cc6-9ede-c4abac4fec7a",
   "metadata": {
    "tags": []
   },
   "outputs": [
    {
     "data": {
      "text/html": [
       "<div>\n",
       "<style scoped>\n",
       "    .dataframe tbody tr th:only-of-type {\n",
       "        vertical-align: middle;\n",
       "    }\n",
       "\n",
       "    .dataframe tbody tr th {\n",
       "        vertical-align: top;\n",
       "    }\n",
       "\n",
       "    .dataframe thead th {\n",
       "        text-align: right;\n",
       "    }\n",
       "</style>\n",
       "<table border=\"1\" class=\"dataframe\">\n",
       "  <thead>\n",
       "    <tr style=\"text-align: right;\">\n",
       "      <th></th>\n",
       "      <th>system</th>\n",
       "      <th>Estimate</th>\n",
       "      <th>95CI_lo</th>\n",
       "      <th>95CI_up</th>\n",
       "      <th>SE</th>\n",
       "    </tr>\n",
       "  </thead>\n",
       "  <tbody>\n",
       "    <tr>\n",
       "      <th>0</th>\n",
       "      <td>Baseline</td>\n",
       "      <td>-0.001</td>\n",
       "      <td>-0.001</td>\n",
       "      <td>-0.0</td>\n",
       "      <td>0.0</td>\n",
       "    </tr>\n",
       "    <tr>\n",
       "      <th>1</th>\n",
       "      <td>SOTA</td>\n",
       "      <td>-0.001</td>\n",
       "      <td>-0.001</td>\n",
       "      <td>-0.0</td>\n",
       "      <td>0.0</td>\n",
       "    </tr>\n",
       "  </tbody>\n",
       "</table>\n",
       "</div>"
      ],
      "text/plain": [
       "     system  Estimate  95CI_lo  95CI_up   SE\n",
       "0  Baseline    -0.001   -0.001     -0.0  0.0\n",
       "1      SOTA    -0.001   -0.001     -0.0  0.0"
      ]
     },
     "execution_count": 19,
     "metadata": {},
     "output_type": "execute_result"
    }
   ],
   "source": [
    "my_analysis.ConditionalSystemComparison.slopes"
   ]
  },
  {
   "cell_type": "code",
   "execution_count": 21,
   "id": "b618f01a-1c0d-453e-9238-5cc8ce6c88df",
   "metadata": {
    "tags": []
   },
   "outputs": [
    {
     "data": {
      "text/html": [
       "<div>\n",
       "<style scoped>\n",
       "    .dataframe tbody tr th:only-of-type {\n",
       "        vertical-align: middle;\n",
       "    }\n",
       "\n",
       "    .dataframe tbody tr th {\n",
       "        vertical-align: top;\n",
       "    }\n",
       "\n",
       "    .dataframe thead th {\n",
       "        text-align: right;\n",
       "    }\n",
       "</style>\n",
       "<table border=\"1\" class=\"dataframe\">\n",
       "  <thead>\n",
       "    <tr style=\"text-align: right;\">\n",
       "      <th></th>\n",
       "      <th>Contrast</th>\n",
       "      <th>Estimate</th>\n",
       "      <th>95CI_lo</th>\n",
       "      <th>95CI_up</th>\n",
       "      <th>SE</th>\n",
       "      <th>P-val</th>\n",
       "    </tr>\n",
       "  </thead>\n",
       "  <tbody>\n",
       "    <tr>\n",
       "      <th>0</th>\n",
       "      <td>Baseline - SOTA</td>\n",
       "      <td>0.0</td>\n",
       "      <td>0.0</td>\n",
       "      <td>0.0</td>\n",
       "      <td>0.0</td>\n",
       "      <td>0.035</td>\n",
       "    </tr>\n",
       "  </tbody>\n",
       "</table>\n",
       "</div>"
      ],
      "text/plain": [
       "          Contrast  Estimate  95CI_lo  95CI_up   SE  P-val\n",
       "0  Baseline - SOTA       0.0      0.0      0.0  0.0  0.035"
      ]
     },
     "execution_count": 21,
     "metadata": {},
     "output_type": "execute_result"
    }
   ],
   "source": [
    "my_analysis.ConditionalSystemComparison.contrasts"
   ]
  },
  {
   "cell_type": "code",
   "execution_count": 23,
   "id": "82c6864a-182e-4802-9da0-8f5340493ca3",
   "metadata": {
    "tags": []
   },
   "outputs": [
    {
     "data": {
      "text/plain": [
       "'word_rarity'"
      ]
     },
     "execution_count": 23,
     "metadata": {},
     "output_type": "execute_result"
    }
   ],
   "source": [
    "my_analysis.ConditionalSystemComparison.data_property"
   ]
  },
  {
   "cell_type": "markdown",
   "id": "6254d4d6-b0b5-466c-ba07-0b93fcb0fd62",
   "metadata": {
    "tags": []
   },
   "source": [
    "#### Investigate If the Observed Performance Difference Depends on the **flesch-kincaid** Score of the Input Summary"
   ]
  },
  {
   "cell_type": "code",
   "execution_count": 24,
   "id": "8c12ed0c-7b71-4f0b-9c57-fdfb775aa8ab",
   "metadata": {
    "tags": []
   },
   "outputs": [
    {
     "name": "stdout",
     "output_type": "stream",
     "text": [
      "Data property is a numeric variable. Applying indivdual trends model and reporting slopes.\n",
      "Fitting H0-model.\n",
      "Fitting H1-model.\n",
      "GLRT p-value <= alpha: Null hypothesis can be rejected! At least two systems depend differently to the data property. See contrasts for pairwise comparisons.\n"
     ]
    }
   ],
   "source": [
    "my_analysis.conditional_system_comparison(data_prop_col = \"flesch_kincaid\", row_filter = \"flesch_kincaid >= 0\")"
   ]
  },
  {
   "cell_type": "code",
   "execution_count": 25,
   "id": "ecdc6f1a-5598-46e4-aba5-d4dc21b69ecd",
   "metadata": {},
   "outputs": [
    {
     "data": {
      "text/plain": [
       "{'chi_square': 4.303537068510195, 'df': 1, 'p': 0.03803319351110468}"
      ]
     },
     "execution_count": 25,
     "metadata": {},
     "output_type": "execute_result"
    }
   ],
   "source": [
    "my_analysis.ConditionalSystemComparison.glrt"
   ]
  },
  {
   "cell_type": "code",
   "execution_count": 26,
   "id": "83d21a9c-3907-42b3-8cbe-9623c4d4b2a9",
   "metadata": {},
   "outputs": [
    {
     "data": {
      "image/png": "[encoded data removed]",
      "text/plain": [
       "<Figure size 640x480 with 1 Axes>"
      ]
     },
     "metadata": {},
     "output_type": "display_data"
    },
    {
     "data": {
      "text/plain": [
       "<ggplot: (8770630245693)>"
      ]
     },
     "execution_count": 26,
     "metadata": {},
     "output_type": "execute_result"
    }
   ],
   "source": [
    "my_analysis.ConditionalSystemComparison.interaction_plot"
   ]
  },
  {
   "cell_type": "code",
   "execution_count": 27,
   "id": "5bc7bfb0-957f-4227-8443-3321137075f0",
   "metadata": {
    "tags": []
   },
   "outputs": [
    {
     "data": {
      "text/html": [
       "<div>\n",
       "<style scoped>\n",
       "    .dataframe tbody tr th:only-of-type {\n",
       "        vertical-align: middle;\n",
       "    }\n",
       "\n",
       "    .dataframe tbody tr th {\n",
       "        vertical-align: top;\n",
       "    }\n",
       "\n",
       "    .dataframe thead th {\n",
       "        text-align: right;\n",
       "    }\n",
       "</style>\n",
       "<table border=\"1\" class=\"dataframe\">\n",
       "  <thead>\n",
       "    <tr style=\"text-align: right;\">\n",
       "      <th></th>\n",
       "      <th>system</th>\n",
       "      <th>Estimate</th>\n",
       "      <th>95CI_lo</th>\n",
       "      <th>95CI_up</th>\n",
       "      <th>SE</th>\n",
       "    </tr>\n",
       "  </thead>\n",
       "  <tbody>\n",
       "    <tr>\n",
       "      <th>0</th>\n",
       "      <td>Baseline</td>\n",
       "      <td>0.0</td>\n",
       "      <td>-0.0</td>\n",
       "      <td>0.000</td>\n",
       "      <td>0.0</td>\n",
       "    </tr>\n",
       "    <tr>\n",
       "      <th>1</th>\n",
       "      <td>SOTA</td>\n",
       "      <td>0.0</td>\n",
       "      <td>0.0</td>\n",
       "      <td>0.001</td>\n",
       "      <td>0.0</td>\n",
       "    </tr>\n",
       "  </tbody>\n",
       "</table>\n",
       "</div>"
      ],
      "text/plain": [
       "     system  Estimate  95CI_lo  95CI_up   SE\n",
       "0  Baseline       0.0     -0.0    0.000  0.0\n",
       "1      SOTA       0.0      0.0    0.001  0.0"
      ]
     },
     "execution_count": 27,
     "metadata": {},
     "output_type": "execute_result"
    }
   ],
   "source": [
    "my_analysis.ConditionalSystemComparison.slopes"
   ]
  },
  {
   "cell_type": "code",
   "execution_count": 29,
   "id": "4ecfc3b2-a976-4780-847d-731d12ac482c",
   "metadata": {
    "tags": []
   },
   "outputs": [
    {
     "data": {
      "text/html": [
       "<div>\n",
       "<style scoped>\n",
       "    .dataframe tbody tr th:only-of-type {\n",
       "        vertical-align: middle;\n",
       "    }\n",
       "\n",
       "    .dataframe tbody tr th {\n",
       "        vertical-align: top;\n",
       "    }\n",
       "\n",
       "    .dataframe thead th {\n",
       "        text-align: right;\n",
       "    }\n",
       "</style>\n",
       "<table border=\"1\" class=\"dataframe\">\n",
       "  <thead>\n",
       "    <tr style=\"text-align: right;\">\n",
       "      <th></th>\n",
       "      <th>Contrast</th>\n",
       "      <th>Estimate</th>\n",
       "      <th>95CI_lo</th>\n",
       "      <th>95CI_up</th>\n",
       "      <th>SE</th>\n",
       "      <th>P-val</th>\n",
       "    </tr>\n",
       "  </thead>\n",
       "  <tbody>\n",
       "    <tr>\n",
       "      <th>0</th>\n",
       "      <td>Baseline - SOTA</td>\n",
       "      <td>-0.0</td>\n",
       "      <td>-0.0</td>\n",
       "      <td>-0.0</td>\n",
       "      <td>0.0</td>\n",
       "      <td>0.038</td>\n",
       "    </tr>\n",
       "  </tbody>\n",
       "</table>\n",
       "</div>"
      ],
      "text/plain": [
       "          Contrast  Estimate  95CI_lo  95CI_up   SE  P-val\n",
       "0  Baseline - SOTA      -0.0     -0.0     -0.0  0.0  0.038"
      ]
     },
     "execution_count": 29,
     "metadata": {},
     "output_type": "execute_result"
    }
   ],
   "source": [
    "my_analysis.ConditionalSystemComparison.contrasts"
   ]
  },
  {
   "cell_type": "code",
   "execution_count": 30,
   "id": "efaf8c55-df8a-4de5-92c3-071e42449b7d",
   "metadata": {
    "tags": []
   },
   "outputs": [
    {
     "data": {
      "text/plain": [
       "'flesch_kincaid'"
      ]
     },
     "execution_count": 30,
     "metadata": {},
     "output_type": "execute_result"
    }
   ],
   "source": [
    "my_analysis.ConditionalSystemComparison.data_property"
   ]
  },
  {
   "cell_type": "markdown",
   "id": "48333e40-a2d4-4fc7-b2b3-be057824c1f5",
   "metadata": {
    "tags": []
   },
   "source": [
    "### Inferential Reproducibility: Statistical Significance Testing of Baselines vs Competitors under Meta-Parameter Variation and Reliability"
   ]
  },
  {
   "cell_type": "code",
   "execution_count": 54,
   "id": "961bc7ba-0426-4569-b82f-d7e65e4686cd",
   "metadata": {
    "tags": []
   },
   "outputs": [],
   "source": [
    "eval_data = pd.read_csv('evaluation_data/aghajanyan_cnn-all.csv', low_memory = False)\n",
    "eval_data = eval_data.astype({\"summary_id\" : 'category', \"system\" : 'category'})"
   ]
  },
  {
   "cell_type": "code",
   "execution_count": 55,
   "id": "e8574a64-b6d4-4029-9a1c-7d1f7507c616",
   "metadata": {},
   "outputs": [],
   "source": [
    "my_analysis = InferentialAnalysis(evaluation_data = eval_data, eval_metric_col = \"rouge_2\", system_col = \"system\", input_identifier_col = \"summary_id\")"
   ]
  },
  {
   "cell_type": "code",
   "execution_count": 56,
   "id": "b41064df-d39f-43fa-924b-699edcd23fc9",
   "metadata": {},
   "outputs": [
    {
     "name": "stdout",
     "output_type": "stream",
     "text": [
      "Fitting H0-model.\n",
      "Fitting H1-model.\n",
      "GLRT p-value <= alpha: Null hypothesis can be rejected! At least two systems are different. See contrasts for pairwise comparisons.\n"
     ]
    }
   ],
   "source": [
    "my_analysis.system_comparison()"
   ]
  },
  {
   "cell_type": "code",
   "execution_count": 57,
   "id": "1b997aaf-b3cd-4311-95a7-3dcbb9129d3c",
   "metadata": {},
   "outputs": [
    {
     "data": {
      "text/plain": [
       "{'chi_square': 11588.40821652161, 'df': 1, 'p': 0.0}"
      ]
     },
     "execution_count": 57,
     "metadata": {},
     "output_type": "execute_result"
    }
   ],
   "source": [
    "my_analysis.SystemComparison.glrt"
   ]
  },
  {
   "cell_type": "code",
   "execution_count": 58,
   "id": "f2a3c863-6f77-4e9c-8e26-0b7699824b6f",
   "metadata": {},
   "outputs": [
    {
     "data": {
      "text/html": [
       "<div>\n",
       "<style scoped>\n",
       "    .dataframe tbody tr th:only-of-type {\n",
       "        vertical-align: middle;\n",
       "    }\n",
       "\n",
       "    .dataframe tbody tr th {\n",
       "        vertical-align: top;\n",
       "    }\n",
       "\n",
       "    .dataframe thead th {\n",
       "        text-align: right;\n",
       "    }\n",
       "</style>\n",
       "<table border=\"1\" class=\"dataframe\">\n",
       "  <thead>\n",
       "    <tr style=\"text-align: right;\">\n",
       "      <th></th>\n",
       "      <th>system</th>\n",
       "      <th>Estimate</th>\n",
       "      <th>95CI_lo</th>\n",
       "      <th>95CI_up</th>\n",
       "      <th>SE</th>\n",
       "    </tr>\n",
       "  </thead>\n",
       "  <tbody>\n",
       "    <tr>\n",
       "      <th>0</th>\n",
       "      <td>Baseline</td>\n",
       "      <td>0.21</td>\n",
       "      <td>0.208</td>\n",
       "      <td>0.212</td>\n",
       "      <td>0.001</td>\n",
       "    </tr>\n",
       "    <tr>\n",
       "      <th>1</th>\n",
       "      <td>SOTA</td>\n",
       "      <td>0.19</td>\n",
       "      <td>0.188</td>\n",
       "      <td>0.192</td>\n",
       "      <td>0.001</td>\n",
       "    </tr>\n",
       "  </tbody>\n",
       "</table>\n",
       "</div>"
      ],
      "text/plain": [
       "     system  Estimate  95CI_lo  95CI_up     SE\n",
       "0  Baseline      0.21    0.208    0.212  0.001\n",
       "1      SOTA      0.19    0.188    0.192  0.001"
      ]
     },
     "execution_count": 58,
     "metadata": {},
     "output_type": "execute_result"
    }
   ],
   "source": [
    "my_analysis.SystemComparison.means"
   ]
  },
  {
   "cell_type": "code",
   "execution_count": 59,
   "id": "2a8a401e-418a-46c8-81be-76639dcdac90",
   "metadata": {},
   "outputs": [
    {
     "data": {
      "text/html": [
       "<div>\n",
       "<style scoped>\n",
       "    .dataframe tbody tr th:only-of-type {\n",
       "        vertical-align: middle;\n",
       "    }\n",
       "\n",
       "    .dataframe tbody tr th {\n",
       "        vertical-align: top;\n",
       "    }\n",
       "\n",
       "    .dataframe thead th {\n",
       "        text-align: right;\n",
       "    }\n",
       "</style>\n",
       "<table border=\"1\" class=\"dataframe\">\n",
       "  <thead>\n",
       "    <tr style=\"text-align: right;\">\n",
       "      <th></th>\n",
       "      <th>Contrast</th>\n",
       "      <th>Estimate</th>\n",
       "      <th>95CI_lo</th>\n",
       "      <th>95CI_up</th>\n",
       "      <th>SE</th>\n",
       "      <th>P-val</th>\n",
       "      <th>Effect_size_g</th>\n",
       "    </tr>\n",
       "  </thead>\n",
       "  <tbody>\n",
       "    <tr>\n",
       "      <th>0</th>\n",
       "      <td>Baseline - SOTA</td>\n",
       "      <td>0.02</td>\n",
       "      <td>0.02</td>\n",
       "      <td>0.021</td>\n",
       "      <td>0.0</td>\n",
       "      <td>0.0</td>\n",
       "      <td>0.294151</td>\n",
       "    </tr>\n",
       "  </tbody>\n",
       "</table>\n",
       "</div>"
      ],
      "text/plain": [
       "          Contrast  Estimate  95CI_lo  95CI_up   SE  P-val  Effect_size_g\n",
       "0  Baseline - SOTA      0.02     0.02    0.021  0.0    0.0       0.294151"
      ]
     },
     "execution_count": 59,
     "metadata": {},
     "output_type": "execute_result"
    }
   ],
   "source": [
    "my_analysis.SystemComparison.contrasts"
   ]
  },
  {
   "cell_type": "code",
   "execution_count": 39,
   "id": "7782de84-3aa0-40e4-abbf-9efa44e038fc",
   "metadata": {},
   "outputs": [
    {
     "name": "stdout",
     "output_type": "stream",
     "text": [
      "WARNING: seed is not categorical! Datatype will be converted.\n",
      "WARNING: lambda is not categorical! Datatype will be converted.\n",
      "WARNING: distribution is not categorical! Datatype will be converted.\n",
      "Calculating variance decomposition.\n"
     ]
    }
   ],
   "source": [
    "my_analysis.icc(algorithm_id = \"SOTA\", facet_cols = [\"seed\", \"lambda\", \"distribution\"])"
   ]
  },
  {
   "cell_type": "code",
   "execution_count": 40,
   "id": "51b8aa2a-462b-4ff7-bced-34d0e3846d90",
   "metadata": {},
   "outputs": [
    {
     "data": {
      "text/html": [
       "<div>\n",
       "<style scoped>\n",
       "    .dataframe tbody tr th:only-of-type {\n",
       "        vertical-align: middle;\n",
       "    }\n",
       "\n",
       "    .dataframe tbody tr th {\n",
       "        vertical-align: top;\n",
       "    }\n",
       "\n",
       "    .dataframe thead th {\n",
       "        text-align: right;\n",
       "    }\n",
       "</style>\n",
       "<table border=\"1\" class=\"dataframe\">\n",
       "  <thead>\n",
       "    <tr style=\"text-align: right;\">\n",
       "      <th></th>\n",
       "      <th>Var</th>\n",
       "      <th>ICC</th>\n",
       "    </tr>\n",
       "  </thead>\n",
       "  <tbody>\n",
       "    <tr>\n",
       "      <th>summary_id</th>\n",
       "      <td>0.009916</td>\n",
       "      <td>62.651419</td>\n",
       "    </tr>\n",
       "    <tr>\n",
       "      <th>seed</th>\n",
       "      <td>0.000077</td>\n",
       "      <td>0.484492</td>\n",
       "    </tr>\n",
       "    <tr>\n",
       "      <th>lambda</th>\n",
       "      <td>0.001318</td>\n",
       "      <td>8.325588</td>\n",
       "    </tr>\n",
       "    <tr>\n",
       "      <th>distribution</th>\n",
       "      <td>0.000032</td>\n",
       "      <td>0.200806</td>\n",
       "    </tr>\n",
       "    <tr>\n",
       "      <th>Residual</th>\n",
       "      <td>0.004485</td>\n",
       "      <td>28.337695</td>\n",
       "    </tr>\n",
       "  </tbody>\n",
       "</table>\n",
       "</div>"
      ],
      "text/plain": [
       "                   Var        ICC\n",
       "summary_id    0.009916  62.651419\n",
       "seed          0.000077   0.484492\n",
       "lambda        0.001318   8.325588\n",
       "distribution  0.000032   0.200806\n",
       "Residual      0.004485  28.337695"
      ]
     },
     "execution_count": 40,
     "metadata": {},
     "output_type": "execute_result"
    }
   ],
   "source": [
    "my_analysis.Reliability.icc"
   ]
  },
  {
   "cell_type": "markdown",
   "id": "e43a492d-5c2f-40ef-a516-48b38edfbac6",
   "metadata": {},
   "source": [
    "#### Investigate If the Choice of lambda has a Significant Impact on the System Performance"
   ]
  },
  {
   "cell_type": "code",
   "execution_count": 41,
   "id": "6cb3ed23-a54d-4366-a5c7-c810dbe7c060",
   "metadata": {},
   "outputs": [
    {
     "name": "stdout",
     "output_type": "stream",
     "text": [
      "Fitting H0-model.\n",
      "Fitting H1-model.\n",
      "P-values adjusted by tukey method for family of 3 estimates\n",
      "GLRT p-value <= alpha: Null hypothesis can be rejected! At least two systems are different. See contrasts for pairwise comparisons.\n"
     ]
    }
   ],
   "source": [
    "my_analysis.hyperparameter_assessment(algorithm_id = \"SOTA\", hyperparameter_col = \"lambda\")"
   ]
  },
  {
   "cell_type": "code",
   "execution_count": 42,
   "id": "ffce4e63-c70b-4e89-a1d1-198597a8238c",
   "metadata": {},
   "outputs": [
    {
     "data": {
      "text/plain": [
       "{'chi_square': 60450.516527839005, 'df': 2, 'p': 0.0}"
      ]
     },
     "execution_count": 42,
     "metadata": {},
     "output_type": "execute_result"
    }
   ],
   "source": [
    "my_analysis.HyperParameterAssessment.glrt"
   ]
  },
  {
   "cell_type": "code",
   "execution_count": 43,
   "id": "267177b9-2486-48e9-9e54-f826b51d8de5",
   "metadata": {},
   "outputs": [
    {
     "data": {
      "text/html": [
       "<div>\n",
       "<style scoped>\n",
       "    .dataframe tbody tr th:only-of-type {\n",
       "        vertical-align: middle;\n",
       "    }\n",
       "\n",
       "    .dataframe tbody tr th {\n",
       "        vertical-align: top;\n",
       "    }\n",
       "\n",
       "    .dataframe thead th {\n",
       "        text-align: right;\n",
       "    }\n",
       "</style>\n",
       "<table border=\"1\" class=\"dataframe\">\n",
       "  <thead>\n",
       "    <tr style=\"text-align: right;\">\n",
       "      <th></th>\n",
       "      <th>lambda</th>\n",
       "      <th>Estimate</th>\n",
       "      <th>95CI_lo</th>\n",
       "      <th>95CI_up</th>\n",
       "      <th>SE</th>\n",
       "    </tr>\n",
       "  </thead>\n",
       "  <tbody>\n",
       "    <tr>\n",
       "      <th>0</th>\n",
       "      <td>0-001</td>\n",
       "      <td>0.209</td>\n",
       "      <td>0.207</td>\n",
       "      <td>0.211</td>\n",
       "      <td>0.001</td>\n",
       "    </tr>\n",
       "    <tr>\n",
       "      <th>1</th>\n",
       "      <td>0-01</td>\n",
       "      <td>0.213</td>\n",
       "      <td>0.211</td>\n",
       "      <td>0.215</td>\n",
       "      <td>0.001</td>\n",
       "    </tr>\n",
       "    <tr>\n",
       "      <th>2</th>\n",
       "      <td>0-1</td>\n",
       "      <td>0.148</td>\n",
       "      <td>0.146</td>\n",
       "      <td>0.150</td>\n",
       "      <td>0.001</td>\n",
       "    </tr>\n",
       "  </tbody>\n",
       "</table>\n",
       "</div>"
      ],
      "text/plain": [
       "  lambda  Estimate  95CI_lo  95CI_up     SE\n",
       "0  0-001     0.209    0.207    0.211  0.001\n",
       "1   0-01     0.213    0.211    0.215  0.001\n",
       "2    0-1     0.148    0.146    0.150  0.001"
      ]
     },
     "execution_count": 43,
     "metadata": {},
     "output_type": "execute_result"
    }
   ],
   "source": [
    "my_analysis.HyperParameterAssessment.means"
   ]
  },
  {
   "cell_type": "code",
   "execution_count": 44,
   "id": "1ac6ef44-9844-4e44-bdb3-380fa3bff872",
   "metadata": {},
   "outputs": [
    {
     "data": {
      "text/html": [
       "<div>\n",
       "<style scoped>\n",
       "    .dataframe tbody tr th:only-of-type {\n",
       "        vertical-align: middle;\n",
       "    }\n",
       "\n",
       "    .dataframe tbody tr th {\n",
       "        vertical-align: top;\n",
       "    }\n",
       "\n",
       "    .dataframe thead th {\n",
       "        text-align: right;\n",
       "    }\n",
       "</style>\n",
       "<table border=\"1\" class=\"dataframe\">\n",
       "  <thead>\n",
       "    <tr style=\"text-align: right;\">\n",
       "      <th></th>\n",
       "      <th>Contrast</th>\n",
       "      <th>Estimate</th>\n",
       "      <th>95CI_lo</th>\n",
       "      <th>95CI_up</th>\n",
       "      <th>SE</th>\n",
       "      <th>P-val</th>\n",
       "      <th>Effect_size_g</th>\n",
       "    </tr>\n",
       "  </thead>\n",
       "  <tbody>\n",
       "    <tr>\n",
       "      <th>0</th>\n",
       "      <td>(0-001) - (0-01)</td>\n",
       "      <td>-0.004</td>\n",
       "      <td>-0.005</td>\n",
       "      <td>-0.003</td>\n",
       "      <td>0.0</td>\n",
       "      <td>0.0</td>\n",
       "      <td>-0.059202</td>\n",
       "    </tr>\n",
       "    <tr>\n",
       "      <th>1</th>\n",
       "      <td>(0-001) - (0-1)</td>\n",
       "      <td>0.061</td>\n",
       "      <td>0.060</td>\n",
       "      <td>0.061</td>\n",
       "      <td>0.0</td>\n",
       "      <td>0.0</td>\n",
       "      <td>0.902828</td>\n",
       "    </tr>\n",
       "    <tr>\n",
       "      <th>2</th>\n",
       "      <td>(0-01) - (0-1)</td>\n",
       "      <td>0.065</td>\n",
       "      <td>0.064</td>\n",
       "      <td>0.065</td>\n",
       "      <td>0.0</td>\n",
       "      <td>0.0</td>\n",
       "      <td>0.962030</td>\n",
       "    </tr>\n",
       "  </tbody>\n",
       "</table>\n",
       "</div>"
      ],
      "text/plain": [
       "           Contrast  Estimate  95CI_lo  95CI_up   SE  P-val  Effect_size_g\n",
       "0  (0-001) - (0-01)    -0.004   -0.005   -0.003  0.0    0.0      -0.059202\n",
       "1   (0-001) - (0-1)     0.061    0.060    0.061  0.0    0.0       0.902828\n",
       "2    (0-01) - (0-1)     0.065    0.064    0.065  0.0    0.0       0.962030"
      ]
     },
     "execution_count": 44,
     "metadata": {},
     "output_type": "execute_result"
    }
   ],
   "source": [
    "my_analysis.HyperParameterAssessment.contrasts"
   ]
  },
  {
   "cell_type": "code",
   "execution_count": 45,
   "id": "20aa7756-4be7-4364-b808-38f93b6e9fa3",
   "metadata": {
    "tags": []
   },
   "outputs": [
    {
     "data": {
      "text/plain": [
       "'SOTA'"
      ]
     },
     "execution_count": 45,
     "metadata": {},
     "output_type": "execute_result"
    }
   ],
   "source": [
    "my_analysis.HyperParameterAssessment.algorithm"
   ]
  },
  {
   "cell_type": "markdown",
   "id": "87ad80f0-eaeb-49d1-8c9f-7eb9af25cf7f",
   "metadata": {
    "tags": []
   },
   "source": [
    "#### Assess If the Observed Hyper-Parameter Influence is Moderated by the **word rarity** Score of the Input "
   ]
  },
  {
   "cell_type": "code",
   "execution_count": 46,
   "id": "8b90b09c-95a3-4343-90ac-36cffd4305c3",
   "metadata": {},
   "outputs": [
    {
     "name": "stdout",
     "output_type": "stream",
     "text": [
      "Data property is a numeric variable. Applying indivdual trends model and reporting slopes.\n",
      "Fitting H0-model.\n",
      "Fitting H1-model.\n",
      "P-values adjusted by tukey method for family of 3 estimates\n",
      "GLRT p-value <= alpha: Null hypothesis can be rejected! At least two systems depend differently to the data property. See contrasts for pairwise comparisons.\n"
     ]
    }
   ],
   "source": [
    "my_analysis.conditional_hyperparameter_assessment(algorithm_id = \"SOTA\", hyperparameter_col = \"lambda\", data_prop_col = \"word_rarity\")"
   ]
  },
  {
   "cell_type": "code",
   "execution_count": 47,
   "id": "e9221f23-1aa0-429d-99c3-e408ad18c8b0",
   "metadata": {},
   "outputs": [
    {
     "data": {
      "text/plain": [
       "{'chi_square': 428.5751593449386, 'df': 2, 'p': 0.0}"
      ]
     },
     "execution_count": 47,
     "metadata": {},
     "output_type": "execute_result"
    }
   ],
   "source": [
    "my_analysis.ConditionalHyperParameterAssessment.glrt"
   ]
  },
  {
   "cell_type": "code",
   "execution_count": 48,
   "id": "203f4170-610a-438e-9065-56edc5d05db7",
   "metadata": {
    "tags": []
   },
   "outputs": [
    {
     "data": {
      "image/png": "[encoded data removed]",
      "text/plain": [
       "<Figure size 640x480 with 1 Axes>"
      ]
     },
     "metadata": {},
     "output_type": "display_data"
    },
    {
     "data": {
      "text/plain": [
       "<ggplot: (8770386373898)>"
      ]
     },
     "execution_count": 48,
     "metadata": {},
     "output_type": "execute_result"
    }
   ],
   "source": [
    "my_analysis.ConditionalHyperParameterAssessment.interaction_plot"
   ]
  },
  {
   "cell_type": "code",
   "execution_count": 50,
   "id": "cb9c51f3-7dbb-451f-b64f-214d7f435138",
   "metadata": {
    "tags": []
   },
   "outputs": [
    {
     "data": {
      "text/html": [
       "<div>\n",
       "<style scoped>\n",
       "    .dataframe tbody tr th:only-of-type {\n",
       "        vertical-align: middle;\n",
       "    }\n",
       "\n",
       "    .dataframe tbody tr th {\n",
       "        vertical-align: top;\n",
       "    }\n",
       "\n",
       "    .dataframe thead th {\n",
       "        text-align: right;\n",
       "    }\n",
       "</style>\n",
       "<table border=\"1\" class=\"dataframe\">\n",
       "  <thead>\n",
       "    <tr style=\"text-align: right;\">\n",
       "      <th></th>\n",
       "      <th>lambda</th>\n",
       "      <th>Estimate</th>\n",
       "      <th>95CI_lo</th>\n",
       "      <th>95CI_up</th>\n",
       "      <th>SE</th>\n",
       "    </tr>\n",
       "  </thead>\n",
       "  <tbody>\n",
       "    <tr>\n",
       "      <th>0</th>\n",
       "      <td>0-001</td>\n",
       "      <td>-0.001</td>\n",
       "      <td>-0.001</td>\n",
       "      <td>-0.0</td>\n",
       "      <td>0.0</td>\n",
       "    </tr>\n",
       "    <tr>\n",
       "      <th>1</th>\n",
       "      <td>0-01</td>\n",
       "      <td>-0.001</td>\n",
       "      <td>-0.001</td>\n",
       "      <td>-0.0</td>\n",
       "      <td>0.0</td>\n",
       "    </tr>\n",
       "    <tr>\n",
       "      <th>2</th>\n",
       "      <td>0-1</td>\n",
       "      <td>-0.000</td>\n",
       "      <td>-0.000</td>\n",
       "      <td>-0.0</td>\n",
       "      <td>0.0</td>\n",
       "    </tr>\n",
       "  </tbody>\n",
       "</table>\n",
       "</div>"
      ],
      "text/plain": [
       "  lambda  Estimate  95CI_lo  95CI_up   SE\n",
       "0  0-001    -0.001   -0.001     -0.0  0.0\n",
       "1   0-01    -0.001   -0.001     -0.0  0.0\n",
       "2    0-1    -0.000   -0.000     -0.0  0.0"
      ]
     },
     "execution_count": 50,
     "metadata": {},
     "output_type": "execute_result"
    }
   ],
   "source": [
    "my_analysis.ConditionalHyperParameterAssessment.slopes"
   ]
  },
  {
   "cell_type": "code",
   "execution_count": 51,
   "id": "50bf4062-ef52-41d5-a29f-633017397201",
   "metadata": {
    "tags": []
   },
   "outputs": [
    {
     "data": {
      "text/html": [
       "<div>\n",
       "<style scoped>\n",
       "    .dataframe tbody tr th:only-of-type {\n",
       "        vertical-align: middle;\n",
       "    }\n",
       "\n",
       "    .dataframe tbody tr th {\n",
       "        vertical-align: top;\n",
       "    }\n",
       "\n",
       "    .dataframe thead th {\n",
       "        text-align: right;\n",
       "    }\n",
       "</style>\n",
       "<table border=\"1\" class=\"dataframe\">\n",
       "  <thead>\n",
       "    <tr style=\"text-align: right;\">\n",
       "      <th></th>\n",
       "      <th>Contrast</th>\n",
       "      <th>Estimate</th>\n",
       "      <th>95CI_lo</th>\n",
       "      <th>95CI_up</th>\n",
       "      <th>SE</th>\n",
       "      <th>P-val</th>\n",
       "    </tr>\n",
       "  </thead>\n",
       "  <tbody>\n",
       "    <tr>\n",
       "      <th>0</th>\n",
       "      <td>(0-001) - (0-01)</td>\n",
       "      <td>0.0</td>\n",
       "      <td>-0.0</td>\n",
       "      <td>0.0</td>\n",
       "      <td>0.0</td>\n",
       "      <td>0.25</td>\n",
       "    </tr>\n",
       "    <tr>\n",
       "      <th>1</th>\n",
       "      <td>(0-001) - (0-1)</td>\n",
       "      <td>-0.0</td>\n",
       "      <td>-0.0</td>\n",
       "      <td>-0.0</td>\n",
       "      <td>0.0</td>\n",
       "      <td>0.00</td>\n",
       "    </tr>\n",
       "    <tr>\n",
       "      <th>2</th>\n",
       "      <td>(0-01) - (0-1)</td>\n",
       "      <td>-0.0</td>\n",
       "      <td>-0.0</td>\n",
       "      <td>-0.0</td>\n",
       "      <td>0.0</td>\n",
       "      <td>0.00</td>\n",
       "    </tr>\n",
       "  </tbody>\n",
       "</table>\n",
       "</div>"
      ],
      "text/plain": [
       "           Contrast  Estimate  95CI_lo  95CI_up   SE  P-val\n",
       "0  (0-001) - (0-01)       0.0     -0.0      0.0  0.0   0.25\n",
       "1   (0-001) - (0-1)      -0.0     -0.0     -0.0  0.0   0.00\n",
       "2    (0-01) - (0-1)      -0.0     -0.0     -0.0  0.0   0.00"
      ]
     },
     "execution_count": 51,
     "metadata": {},
     "output_type": "execute_result"
    }
   ],
   "source": [
    "my_analysis.ConditionalHyperParameterAssessment.contrasts"
   ]
  },
  {
   "cell_type": "code",
   "execution_count": 52,
   "id": "54ce2818-dfd3-41ee-bf73-13c5ee85300f",
   "metadata": {
    "tags": []
   },
   "outputs": [
    {
     "data": {
      "text/plain": [
       "'SOTA'"
      ]
     },
     "execution_count": 52,
     "metadata": {},
     "output_type": "execute_result"
    }
   ],
   "source": [
    "my_analysis.ConditionalHyperParameterAssessment.algorithm"
   ]
  },
  {
   "cell_type": "code",
   "execution_count": 53,
   "id": "b8648ad5-5f39-4caa-ba43-08d39c72ab72",
   "metadata": {
    "tags": []
   },
   "outputs": [
    {
     "data": {
      "text/plain": [
       "'word_rarity'"
      ]
     },
     "execution_count": 53,
     "metadata": {},
     "output_type": "execute_result"
    }
   ],
   "source": [
    "my_analysis.ConditionalHyperParameterAssessment.data_property"
   ]
  },
  {
   "cell_type": "markdown",
   "id": "e85320ad-f8aa-4730-9773-c525b29202e5",
   "metadata": {
    "tags": []
   },
   "source": [
    "#### Assess If the Observed Hyper-Parameter Influence is Moderated by the **flesch-kincaid** Score of the Input "
   ]
  },
  {
   "cell_type": "code",
   "execution_count": 60,
   "id": "764d8402-9853-4d3a-86a3-b1ebb3d5eed7",
   "metadata": {},
   "outputs": [
    {
     "name": "stdout",
     "output_type": "stream",
     "text": [
      "WARNING: lambda is not categorical! Datatype will be converted.\n",
      "Data property is a numeric variable. Applying indivdual trends model and reporting slopes.\n",
      "Fitting H0-model.\n",
      "Fitting H1-model.\n",
      "P-values adjusted by tukey method for family of 3 estimates\n",
      "GLRT p-value <= alpha: Null hypothesis can be rejected! At least two systems depend differently to the data property. See contrasts for pairwise comparisons.\n"
     ]
    }
   ],
   "source": [
    "my_analysis.conditional_hyperparameter_assessment(algorithm_id = \"SOTA\", hyperparameter_col = \"lambda\", data_prop_col = \"flesch_kincaid\", row_filter = \"flesch_kincaid >= 0\")"
   ]
  },
  {
   "cell_type": "code",
   "execution_count": 61,
   "id": "991d59cd-107f-40de-9f20-901d2228fad5",
   "metadata": {},
   "outputs": [
    {
     "data": {
      "text/plain": [
       "{'chi_square': 366.55330215825234, 'df': 2, 'p': 0.0}"
      ]
     },
     "execution_count": 61,
     "metadata": {},
     "output_type": "execute_result"
    }
   ],
   "source": [
    "my_analysis.ConditionalHyperParameterAssessment.glrt"
   ]
  },
  {
   "cell_type": "code",
   "execution_count": 62,
   "id": "50a89888-4e7d-4163-a58b-6a88d30a4ae6",
   "metadata": {
    "tags": []
   },
   "outputs": [
    {
     "data": {
      "image/png": "[encoded data removed]",
      "text/plain": [
       "<Figure size 640x480 with 1 Axes>"
      ]
     },
     "metadata": {},
     "output_type": "display_data"
    },
    {
     "data": {
      "text/plain": [
       "<ggplot: (8770667489139)>"
      ]
     },
     "execution_count": 62,
     "metadata": {},
     "output_type": "execute_result"
    }
   ],
   "source": [
    "my_analysis.ConditionalHyperParameterAssessment.interaction_plot"
   ]
  },
  {
   "cell_type": "code",
   "execution_count": 64,
   "id": "390f551c-24ea-4305-a5d5-9413ad2e17fb",
   "metadata": {
    "tags": []
   },
   "outputs": [
    {
     "data": {
      "text/html": [
       "<div>\n",
       "<style scoped>\n",
       "    .dataframe tbody tr th:only-of-type {\n",
       "        vertical-align: middle;\n",
       "    }\n",
       "\n",
       "    .dataframe tbody tr th {\n",
       "        vertical-align: top;\n",
       "    }\n",
       "\n",
       "    .dataframe thead th {\n",
       "        text-align: right;\n",
       "    }\n",
       "</style>\n",
       "<table border=\"1\" class=\"dataframe\">\n",
       "  <thead>\n",
       "    <tr style=\"text-align: right;\">\n",
       "      <th></th>\n",
       "      <th>lambda</th>\n",
       "      <th>Estimate</th>\n",
       "      <th>95CI_lo</th>\n",
       "      <th>95CI_up</th>\n",
       "      <th>SE</th>\n",
       "    </tr>\n",
       "  </thead>\n",
       "  <tbody>\n",
       "    <tr>\n",
       "      <th>0</th>\n",
       "      <td>0-001</td>\n",
       "      <td>0.0</td>\n",
       "      <td>0.0</td>\n",
       "      <td>0.000</td>\n",
       "      <td>0.0</td>\n",
       "    </tr>\n",
       "    <tr>\n",
       "      <th>1</th>\n",
       "      <td>0-01</td>\n",
       "      <td>0.0</td>\n",
       "      <td>0.0</td>\n",
       "      <td>0.001</td>\n",
       "      <td>0.0</td>\n",
       "    </tr>\n",
       "    <tr>\n",
       "      <th>2</th>\n",
       "      <td>0-1</td>\n",
       "      <td>-0.0</td>\n",
       "      <td>-0.0</td>\n",
       "      <td>-0.000</td>\n",
       "      <td>0.0</td>\n",
       "    </tr>\n",
       "  </tbody>\n",
       "</table>\n",
       "</div>"
      ],
      "text/plain": [
       "  lambda  Estimate  95CI_lo  95CI_up   SE\n",
       "0  0-001       0.0      0.0    0.000  0.0\n",
       "1   0-01       0.0      0.0    0.001  0.0\n",
       "2    0-1      -0.0     -0.0   -0.000  0.0"
      ]
     },
     "execution_count": 64,
     "metadata": {},
     "output_type": "execute_result"
    }
   ],
   "source": [
    "my_analysis.ConditionalHyperParameterAssessment.slopes"
   ]
  },
  {
   "cell_type": "code",
   "execution_count": 65,
   "id": "67215758-18fd-415f-a234-b5cf2de30148",
   "metadata": {
    "tags": []
   },
   "outputs": [
    {
     "data": {
      "text/html": [
       "<div>\n",
       "<style scoped>\n",
       "    .dataframe tbody tr th:only-of-type {\n",
       "        vertical-align: middle;\n",
       "    }\n",
       "\n",
       "    .dataframe tbody tr th {\n",
       "        vertical-align: top;\n",
       "    }\n",
       "\n",
       "    .dataframe thead th {\n",
       "        text-align: right;\n",
       "    }\n",
       "</style>\n",
       "<table border=\"1\" class=\"dataframe\">\n",
       "  <thead>\n",
       "    <tr style=\"text-align: right;\">\n",
       "      <th></th>\n",
       "      <th>Contrast</th>\n",
       "      <th>Estimate</th>\n",
       "      <th>95CI_lo</th>\n",
       "      <th>95CI_up</th>\n",
       "      <th>SE</th>\n",
       "      <th>P-val</th>\n",
       "    </tr>\n",
       "  </thead>\n",
       "  <tbody>\n",
       "    <tr>\n",
       "      <th>0</th>\n",
       "      <td>(0-001) - (0-01)</td>\n",
       "      <td>-0.000</td>\n",
       "      <td>-0.0</td>\n",
       "      <td>0.000</td>\n",
       "      <td>0.0</td>\n",
       "      <td>0.389</td>\n",
       "    </tr>\n",
       "    <tr>\n",
       "      <th>1</th>\n",
       "      <td>(0-001) - (0-1)</td>\n",
       "      <td>0.001</td>\n",
       "      <td>0.0</td>\n",
       "      <td>0.001</td>\n",
       "      <td>0.0</td>\n",
       "      <td>0.000</td>\n",
       "    </tr>\n",
       "    <tr>\n",
       "      <th>2</th>\n",
       "      <td>(0-01) - (0-1)</td>\n",
       "      <td>0.001</td>\n",
       "      <td>0.0</td>\n",
       "      <td>0.001</td>\n",
       "      <td>0.0</td>\n",
       "      <td>0.000</td>\n",
       "    </tr>\n",
       "  </tbody>\n",
       "</table>\n",
       "</div>"
      ],
      "text/plain": [
       "           Contrast  Estimate  95CI_lo  95CI_up   SE  P-val\n",
       "0  (0-001) - (0-01)    -0.000     -0.0    0.000  0.0  0.389\n",
       "1   (0-001) - (0-1)     0.001      0.0    0.001  0.0  0.000\n",
       "2    (0-01) - (0-1)     0.001      0.0    0.001  0.0  0.000"
      ]
     },
     "execution_count": 65,
     "metadata": {},
     "output_type": "execute_result"
    }
   ],
   "source": [
    "my_analysis.ConditionalHyperParameterAssessment.contrasts"
   ]
  },
  {
   "cell_type": "code",
   "execution_count": 66,
   "id": "99e704f9-5b3d-4331-a421-de233636b2f5",
   "metadata": {
    "tags": []
   },
   "outputs": [
    {
     "data": {
      "text/plain": [
       "'SOTA'"
      ]
     },
     "execution_count": 66,
     "metadata": {},
     "output_type": "execute_result"
    }
   ],
   "source": [
    "my_analysis.ConditionalHyperParameterAssessment.algorithm"
   ]
  },
  {
   "cell_type": "code",
   "execution_count": 67,
   "id": "9c93e4f3-83b0-4449-be58-405dd64e399b",
   "metadata": {
    "tags": []
   },
   "outputs": [
    {
     "data": {
      "text/plain": [
       "'flesch_kincaid'"
      ]
     },
     "execution_count": 67,
     "metadata": {},
     "output_type": "execute_result"
    }
   ],
   "source": [
    "my_analysis.ConditionalHyperParameterAssessment.data_property"
   ]
  }
 ],
 "metadata": {
  "kernelspec": {
   "display_name": "Python 3 (ipykernel)",
   "language": "python",
   "name": "python3"
  },
  "language_info": {
   "codemirror_mode": {
    "name": "ipython",
    "version": 3
   },
   "file_extension": ".py",
   "mimetype": "text/x-python",
   "name": "python",
   "nbconvert_exporter": "python",
   "pygments_lexer": "ipython3",
   "version": "3.9.13"
  }
 },
 "nbformat": 4,
 "nbformat_minor": 5
}
